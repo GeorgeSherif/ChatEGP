{
  "nbformat": 4,
  "nbformat_minor": 0,
  "metadata": {
    "colab": {
      "provenance": [],
      "authorship_tag": "ABX9TyOeQz+BS+LREnaaITpzV4zT",
      "include_colab_link": true
    },
    "kernelspec": {
      "name": "python3",
      "display_name": "Python 3"
    },
    "language_info": {
      "name": "python"
    },
    "widgets": {
      "application/vnd.jupyter.widget-state+json": {}
    }
  },
  "cells": [
    {
      "cell_type": "markdown",
      "metadata": {
        "id": "view-in-github",
        "colab_type": "text"
      },
      "source": [
        "<a href=\"https://colab.research.google.com/github/GeorgeSherif/NLP-ChatEGP/blob/main/Testing_Without_Preprocessing.ipynb\" target=\"_parent\"><img src=\"https://colab.research.google.com/assets/colab-badge.svg\" alt=\"Open In Colab\"/></a>"
      ]
    },
    {
      "cell_type": "markdown",
      "source": [
        "###Testing with the Arabic Dataset.\n",
        "\n",
        "\n",
        "1.   Load the model.\n",
        "2.   Load the dataset.\n",
        "3.   Translate the dataset and preprocess it.\n",
        "4.   Test using the model.\n",
        "\n"
      ],
      "metadata": {
        "id": "Oh-WUpMAjVmR"
      }
    },
    {
      "cell_type": "code",
      "source": [
        "!pip install xformers transformers sentencepiece torch pygal torchvision sacremoses\n"
      ],
      "metadata": {
        "id": "000lPwkHjkc5",
        "outputId": "e9881f60-9fa6-4235-fd1a-aa2055a1522a",
        "colab": {
          "base_uri": "https://localhost:8080/"
        }
      },
      "execution_count": 4,
      "outputs": [
        {
          "output_type": "stream",
          "name": "stdout",
          "text": [
            "Successfully installed huggingface-hub-0.14.1 mypy-extensions-1.0.0 pygal-3.0.0 pyre-extensions-0.0.29 sacremoses-0.0.53 sentencepiece-0.1.99 tokenizers-0.13.3 transformers-4.29.2 typing-inspect-0.8.0 xformers-0.0.19\n"
          ]
        }
      ]
    },
    {
      "cell_type": "code",
      "source": [
        "import pandas as pd\n",
        "import numpy as np\n",
        "import os\n",
        "import warnings\n",
        "import csv\n",
        "import re\n",
        "import seaborn as sns\n",
        "import pygal as py\n",
        "import torch\n",
        "import torchvision\n",
        "\n",
        "from sklearn.feature_extraction.text import CountVectorizer\n",
        "\n",
        "warnings.filterwarnings(\"ignore\", category=FutureWarning)\n"
      ],
      "metadata": {
        "id": "bAm02TPIklgL"
      },
      "execution_count": 5,
      "outputs": []
    },
    {
      "cell_type": "code",
      "execution_count": null,
      "metadata": {
        "id": "7lf2goZojUBI"
      },
      "outputs": [],
      "source": [
        "from google.colab import drive\n",
        "from IPython.display import display # Allows the use of display() for DataFrames\n",
        "drive.mount('/content/gdrive')"
      ]
    },
    {
      "cell_type": "code",
      "source": [
        "if torch.cuda.is_available():\n",
        "    device = torch.device('cuda')\n",
        "else:\n",
        "    device = torch.device('cpu')"
      ],
      "metadata": {
        "id": "_2oJwspBjevB"
      },
      "execution_count": 6,
      "outputs": []
    },
    {
      "cell_type": "code",
      "source": [
        "import pandas as pd\n",
        "import numpy as np\n",
        "dfTest = pd.read_csv('/content/gdrive/MyDrive/NLP/labelled.csv' ,engine=\"python\")"
      ],
      "metadata": {
        "id": "IpBa56PKjqGT"
      },
      "execution_count": null,
      "outputs": []
    },
    {
      "cell_type": "code",
      "source": [
        "from transformers import MarianTokenizer, MarianMTModel\n",
        "mname = \"Helsinki-NLP/opus-mt-tc-big-ar-en\"\n",
        "tokenizer = MarianTokenizer.from_pretrained(mname)\n",
        "model_translate = MarianMTModel.from_pretrained(mname)"
      ],
      "metadata": {
        "id": "mLSRo-lAjudp",
        "outputId": "eaa8a8cf-f00f-4808-f7e3-8db6c4f1b093",
        "colab": {
          "base_uri": "https://localhost:8080/",
          "height": 34,
          "referenced_widgets": [
            "36e5ce5cebf14488b9881eec3feaf730"
          ]
        }
      },
      "execution_count": 8,
      "outputs": [
        {
          "output_type": "display_data",
          "data": {
            "text/plain": [
              "Downloading (…)neration_config.json:   0%|          | 0.00/301 [00:00<?, ?B/s]"
            ],
            "application/vnd.jupyter.widget-view+json": {
              "version_major": 2,
              "version_minor": 0,
              "model_id": "36e5ce5cebf14488b9881eec3feaf730"
            }
          },
          "metadata": {}
        }
      ]
    },
    {
      "cell_type": "code",
      "source": [
        "translated = []\n",
        "for i in range(len(dfTest)):\n",
        "  input = dfTest['Sentence'][i]\n",
        "  translated_tokens = model_translate.generate(**tokenizer.prepare_seq2seq_batch([input], return_tensors=\"pt\"))\n",
        "  translated_text = [tokenizer.decode(t, skip_special_tokens=True) for t in translated_tokens]\n",
        "  translated.append(translated_text[0])\n",
        "dfTest['English'] = translated"
      ],
      "metadata": {
        "colab": {
          "base_uri": "https://localhost:8080/"
        },
        "id": "WnmNSHQxjugA",
        "outputId": "41ed74ec-c5b3-40e0-f723-03b545e1555f"
      },
      "execution_count": 9,
      "outputs": [
        {
          "metadata": {
            "tags": null
          },
          "name": "stderr",
          "output_type": "stream",
          "text": [
            "/usr/local/lib/python3.10/dist-packages/transformers/generation/utils.py:1346: UserWarning: Using `max_length`'s default (512) to control the generation length. This behaviour is deprecated and will be removed from the config in v5 of Transformers -- we recommend using `max_new_tokens` to control the maximum length of the generation.\n",
            "  warnings.warn(\n"
          ]
        }
      ]
    },
    {
      "cell_type": "code",
      "source": [
        "dfTest = dfTest.drop([\"Sentence\",\"id\"] , axis =1)\n",
        "dfTest = dfTest.rename(columns={'label': 'Sentiment', 'English':'Sentence'})\n",
        "dfTest['Sentiment'] = dfTest['Sentiment'].replace(['negative','neutral','positive'],[0,1,2])\n",
        "dfTest"
      ],
      "metadata": {
        "colab": {
          "base_uri": "https://localhost:8080/",
          "height": 423
        },
        "id": "vXe5Zar1juiw",
        "outputId": "7a8b35dc-71e6-4538-bbff-a0e90912332f"
      },
      "execution_count": 11,
      "outputs": [
        {
          "output_type": "execute_result",
          "data": {
            "text/plain": [
              "    Sentiment                                           Sentence\n",
              "0           0  The profits of the Gulf Livestock Company fell...\n",
              "1           1    Aramex to discuss cash dividend of 16% for 2016\n",
              "2           0  Al Ain Al Ahlia Insurance achieved a profit of...\n",
              "3           2  Umm Al Quwain Cement’s profit increased by 30%...\n",
              "4           0  The General Assembly of Fujairah Cement Indust...\n",
              "..        ...                                                ...\n",
              "63          1  The Dow Jones quoted an official of Ajman Isla...\n",
              "64          1  Depa said in a statement on Nasdaq Dubai that ...\n",
              "65          2  Dubai Islamic Insurance and Reinsurance Compan...\n",
              "66          2  Gulf Investment Company’s profit in 2016 was A...\n",
              "67          2  Fujairah National Insurance achieved a net pro...\n",
              "\n",
              "[68 rows x 2 columns]"
            ],
            "text/html": [
              "\n",
              "  <div id=\"df-6207335e-30dc-4c43-bf0f-e66b9a209dd0\">\n",
              "    <div class=\"colab-df-container\">\n",
              "      <div>\n",
              "<style scoped>\n",
              "    .dataframe tbody tr th:only-of-type {\n",
              "        vertical-align: middle;\n",
              "    }\n",
              "\n",
              "    .dataframe tbody tr th {\n",
              "        vertical-align: top;\n",
              "    }\n",
              "\n",
              "    .dataframe thead th {\n",
              "        text-align: right;\n",
              "    }\n",
              "</style>\n",
              "<table border=\"1\" class=\"dataframe\">\n",
              "  <thead>\n",
              "    <tr style=\"text-align: right;\">\n",
              "      <th></th>\n",
              "      <th>Sentiment</th>\n",
              "      <th>Sentence</th>\n",
              "    </tr>\n",
              "  </thead>\n",
              "  <tbody>\n",
              "    <tr>\n",
              "      <th>0</th>\n",
              "      <td>0</td>\n",
              "      <td>The profits of the Gulf Livestock Company fell...</td>\n",
              "    </tr>\n",
              "    <tr>\n",
              "      <th>1</th>\n",
              "      <td>1</td>\n",
              "      <td>Aramex to discuss cash dividend of 16% for 2016</td>\n",
              "    </tr>\n",
              "    <tr>\n",
              "      <th>2</th>\n",
              "      <td>0</td>\n",
              "      <td>Al Ain Al Ahlia Insurance achieved a profit of...</td>\n",
              "    </tr>\n",
              "    <tr>\n",
              "      <th>3</th>\n",
              "      <td>2</td>\n",
              "      <td>Umm Al Quwain Cement’s profit increased by 30%...</td>\n",
              "    </tr>\n",
              "    <tr>\n",
              "      <th>4</th>\n",
              "      <td>0</td>\n",
              "      <td>The General Assembly of Fujairah Cement Indust...</td>\n",
              "    </tr>\n",
              "    <tr>\n",
              "      <th>...</th>\n",
              "      <td>...</td>\n",
              "      <td>...</td>\n",
              "    </tr>\n",
              "    <tr>\n",
              "      <th>63</th>\n",
              "      <td>1</td>\n",
              "      <td>The Dow Jones quoted an official of Ajman Isla...</td>\n",
              "    </tr>\n",
              "    <tr>\n",
              "      <th>64</th>\n",
              "      <td>1</td>\n",
              "      <td>Depa said in a statement on Nasdaq Dubai that ...</td>\n",
              "    </tr>\n",
              "    <tr>\n",
              "      <th>65</th>\n",
              "      <td>2</td>\n",
              "      <td>Dubai Islamic Insurance and Reinsurance Compan...</td>\n",
              "    </tr>\n",
              "    <tr>\n",
              "      <th>66</th>\n",
              "      <td>2</td>\n",
              "      <td>Gulf Investment Company’s profit in 2016 was A...</td>\n",
              "    </tr>\n",
              "    <tr>\n",
              "      <th>67</th>\n",
              "      <td>2</td>\n",
              "      <td>Fujairah National Insurance achieved a net pro...</td>\n",
              "    </tr>\n",
              "  </tbody>\n",
              "</table>\n",
              "<p>68 rows × 2 columns</p>\n",
              "</div>\n",
              "      <button class=\"colab-df-convert\" onclick=\"convertToInteractive('df-6207335e-30dc-4c43-bf0f-e66b9a209dd0')\"\n",
              "              title=\"Convert this dataframe to an interactive table.\"\n",
              "              style=\"display:none;\">\n",
              "        \n",
              "  <svg xmlns=\"http://www.w3.org/2000/svg\" height=\"24px\"viewBox=\"0 0 24 24\"\n",
              "       width=\"24px\">\n",
              "    <path d=\"M0 0h24v24H0V0z\" fill=\"none\"/>\n",
              "    <path d=\"M18.56 5.44l.94 2.06.94-2.06 2.06-.94-2.06-.94-.94-2.06-.94 2.06-2.06.94zm-11 1L8.5 8.5l.94-2.06 2.06-.94-2.06-.94L8.5 2.5l-.94 2.06-2.06.94zm10 10l.94 2.06.94-2.06 2.06-.94-2.06-.94-.94-2.06-.94 2.06-2.06.94z\"/><path d=\"M17.41 7.96l-1.37-1.37c-.4-.4-.92-.59-1.43-.59-.52 0-1.04.2-1.43.59L10.3 9.45l-7.72 7.72c-.78.78-.78 2.05 0 2.83L4 21.41c.39.39.9.59 1.41.59.51 0 1.02-.2 1.41-.59l7.78-7.78 2.81-2.81c.8-.78.8-2.07 0-2.86zM5.41 20L4 18.59l7.72-7.72 1.47 1.35L5.41 20z\"/>\n",
              "  </svg>\n",
              "      </button>\n",
              "      \n",
              "  <style>\n",
              "    .colab-df-container {\n",
              "      display:flex;\n",
              "      flex-wrap:wrap;\n",
              "      gap: 12px;\n",
              "    }\n",
              "\n",
              "    .colab-df-convert {\n",
              "      background-color: #E8F0FE;\n",
              "      border: none;\n",
              "      border-radius: 50%;\n",
              "      cursor: pointer;\n",
              "      display: none;\n",
              "      fill: #1967D2;\n",
              "      height: 32px;\n",
              "      padding: 0 0 0 0;\n",
              "      width: 32px;\n",
              "    }\n",
              "\n",
              "    .colab-df-convert:hover {\n",
              "      background-color: #E2EBFA;\n",
              "      box-shadow: 0px 1px 2px rgba(60, 64, 67, 0.3), 0px 1px 3px 1px rgba(60, 64, 67, 0.15);\n",
              "      fill: #174EA6;\n",
              "    }\n",
              "\n",
              "    [theme=dark] .colab-df-convert {\n",
              "      background-color: #3B4455;\n",
              "      fill: #D2E3FC;\n",
              "    }\n",
              "\n",
              "    [theme=dark] .colab-df-convert:hover {\n",
              "      background-color: #434B5C;\n",
              "      box-shadow: 0px 1px 3px 1px rgba(0, 0, 0, 0.15);\n",
              "      filter: drop-shadow(0px 1px 2px rgba(0, 0, 0, 0.3));\n",
              "      fill: #FFFFFF;\n",
              "    }\n",
              "  </style>\n",
              "\n",
              "      <script>\n",
              "        const buttonEl =\n",
              "          document.querySelector('#df-6207335e-30dc-4c43-bf0f-e66b9a209dd0 button.colab-df-convert');\n",
              "        buttonEl.style.display =\n",
              "          google.colab.kernel.accessAllowed ? 'block' : 'none';\n",
              "\n",
              "        async function convertToInteractive(key) {\n",
              "          const element = document.querySelector('#df-6207335e-30dc-4c43-bf0f-e66b9a209dd0');\n",
              "          const dataTable =\n",
              "            await google.colab.kernel.invokeFunction('convertToInteractive',\n",
              "                                                     [key], {});\n",
              "          if (!dataTable) return;\n",
              "\n",
              "          const docLinkHtml = 'Like what you see? Visit the ' +\n",
              "            '<a target=\"_blank\" href=https://colab.research.google.com/notebooks/data_table.ipynb>data table notebook</a>'\n",
              "            + ' to learn more about interactive tables.';\n",
              "          element.innerHTML = '';\n",
              "          dataTable['output_type'] = 'display_data';\n",
              "          await google.colab.output.renderOutput(dataTable, element);\n",
              "          const docLink = document.createElement('div');\n",
              "          docLink.innerHTML = docLinkHtml;\n",
              "          element.appendChild(docLink);\n",
              "        }\n",
              "      </script>\n",
              "    </div>\n",
              "  </div>\n",
              "  "
            ]
          },
          "metadata": {},
          "execution_count": 11
        }
      ]
    },
    {
      "cell_type": "code",
      "source": [
        "from transformers import BertTokenizer,BertForSequenceClassification, TextClassificationPipeline\n",
        "\n",
        "tokenizer = BertTokenizer.from_pretrained(\"bert-base-uncased\")\n",
        "model = BertForSequenceClassification.from_pretrained('bert-base-uncased',\n",
        "                                                      num_labels = 3,\n",
        "                                                      id2label={0: 'negative', 1: 'neutral', 2: 'positive'},\n",
        "                                                      output_attentions = False,\n",
        "                                                      output_hidden_states = False).to(device)\n",
        "                                                      \n",
        "accuracy_per_epoch = []"
      ],
      "metadata": {
        "id": "L9-vZz_njexX"
      },
      "execution_count": null,
      "outputs": []
    },
    {
      "cell_type": "code",
      "source": [
        "path = F\"/content/gdrive/MyDrive/NLP/BERT_ft_epoch8.model\"\n",
        "model.load_state_dict(torch.load(path))\n",
        "pipe = TextClassificationPipeline(model=model, tokenizer=tokenizer, return_all_scores=True)"
      ],
      "metadata": {
        "id": "vhmWMWegBL2g"
      },
      "execution_count": 64,
      "outputs": []
    },
    {
      "cell_type": "code",
      "source": [
        "from torch.utils.data import TensorDataset, DataLoader, RandomSampler, SequentialSampler\n",
        "\n",
        "#encode Arabic Testing set\n",
        "encoded_data_val_Arabic = tokenizer.batch_encode_plus( dfTest.Sentence.values,\n",
        "                                                       add_special_tokens = True,\n",
        "                                                       return_attention_mask = True,\n",
        "                                                       return_tensors = 'pt', \n",
        "                                                       truncation=True,\n",
        "                                                       padding=True,\n",
        "                                                      max_length = 200)\n",
        "\n",
        "input_ids_val_Arabic = encoded_data_val_Arabic['input_ids']\n",
        "attention_masks_val_Arabic = encoded_data_val_Arabic['attention_mask']\n",
        "labels_val_Arabic = torch.tensor(dfTest.Sentiment.values)\n",
        "\n",
        "\n",
        "#Arabic Validation set\n",
        "dataset_val_Arabic = TensorDataset(input_ids_val_Arabic, \n",
        "                                   attention_masks_val_Arabic, \n",
        "                                   labels_val_Arabic)\n",
        "\n",
        "\n",
        "batch_size = 8\n",
        "\n",
        "\n",
        "\n",
        "#Arabic validation set\n",
        "dataloader_val_Arabic = DataLoader(dataset_val_Arabic,\n",
        "                                   sampler = RandomSampler(dataset_val_Arabic),\n",
        "                                   batch_size = 8) #since we don't have to do backpropagation for this step\n",
        "\n"
      ],
      "metadata": {
        "id": "vgub67-vjxFC"
      },
      "execution_count": 65,
      "outputs": []
    },
    {
      "cell_type": "code",
      "source": [
        "#accuracy score\n",
        "def accuracy_per_class(preds, labels):\n",
        "    #label_dict_inverse = {v: k for k, v in label_dict.items()}\n",
        "    \n",
        "    #make prediction\n",
        "    preds_flat = np.argmax(preds, axis=1).flatten()\n",
        "    labels_flat = labels.flatten()\n",
        "    \n",
        "    true = 0\n",
        "    total = 0\n",
        "    for label in np.unique(labels_flat):\n",
        "        y_preds = preds_flat[labels_flat==label]\n",
        "        y_true = labels_flat[labels_flat==label]\n",
        "        #print(f'Class: {label_dict_inverse[label]}')\n",
        "        print(f'Accuracy:{len(y_preds[y_preds==label])}/{len(y_true)}\\n -> {len(y_preds[y_preds==label]) / len(y_true)}')\n",
        "        true = true + len(y_preds[y_preds==label])\n",
        "        total = total + len(y_true)\n",
        "    return true / total\n",
        "\n",
        "def evaluate(dataloader_val):\n",
        "\n",
        "    #evaluation mode \n",
        "    model.eval()\n",
        "    #tracking variables\n",
        "    loss_val_total = 0\n",
        "    predictions, true_vals = [], []\n",
        "\n",
        "    for batch in tqdm(dataloader_val):\n",
        "\n",
        "        #load into GPU\n",
        "        batch = tuple(b.to(device) for b in batch)\n",
        "\n",
        "        #define inputs\n",
        "        inputs = {'input_ids':      batch[0],\n",
        "                  'attention_mask': batch[1],\n",
        "                  'labels':         batch[2]}\n",
        "\n",
        "        #compute logits\n",
        "        with torch.no_grad():        \n",
        "            outputs = model(**inputs)\n",
        "        \n",
        "        #compute loss\n",
        "        loss = outputs[0]\n",
        "        logits = outputs[1]\n",
        "        loss_val_total += loss.item()\n",
        "\n",
        "        #compute accuracy\n",
        "        logits = logits.detach().cpu().numpy()\n",
        "        label_ids = inputs['labels'].cpu().numpy()\n",
        "        predictions.append(logits)\n",
        "        true_vals.append(label_ids)\n",
        "    \n",
        "    #compute average loss\n",
        "    loss_val_avg = loss_val_total/len(dataloader_val) \n",
        "    \n",
        "    predictions = np.concatenate(predictions, axis=0)\n",
        "    true_vals = np.concatenate(true_vals, axis=0)\n",
        "            \n",
        "    return loss_val_avg, predictions, true_vals\n",
        "\n"
      ],
      "metadata": {
        "id": "RI174e0MBUQm"
      },
      "execution_count": 66,
      "outputs": []
    },
    {
      "cell_type": "code",
      "source": [
        "from tqdm import tqdm\n",
        "\n",
        "_,predictions, true_vals = evaluate(dataloader_val_Arabic)"
      ],
      "metadata": {
        "id": "zJI69xYqBVLd",
        "outputId": "4a9d4519-beb0-451d-aefe-b68ef9d8b27b",
        "colab": {
          "base_uri": "https://localhost:8080/"
        }
      },
      "execution_count": 67,
      "outputs": [
        {
          "output_type": "stream",
          "name": "stderr",
          "text": [
            "100%|██████████| 9/9 [00:35<00:00,  3.91s/it]\n"
          ]
        }
      ]
    },
    {
      "cell_type": "code",
      "source": [
        "true_vals.shape\n",
        "accuracy = accuracy_per_class(predictions, true_vals)\n",
        "accuracy_per_epoch.append(accuracy)"
      ],
      "metadata": {
        "id": "x6X_YjlhBbxj",
        "outputId": "216fd37c-b95c-4f3b-cede-4b3ab21d96c8",
        "colab": {
          "base_uri": "https://localhost:8080/"
        }
      },
      "execution_count": 68,
      "outputs": [
        {
          "output_type": "stream",
          "name": "stdout",
          "text": [
            "Accuracy:11/13\n",
            " -> 0.8461538461538461\n",
            "Accuracy:24/27\n",
            " -> 0.8888888888888888\n",
            "Accuracy:19/28\n",
            " -> 0.6785714285714286\n"
          ]
        }
      ]
    },
    {
      "cell_type": "code",
      "source": [
        "accuracy_per_epoch"
      ],
      "metadata": {
        "id": "p4IcUI92BBdI",
        "outputId": "d064a518-d469-40cb-94ff-4d090316bdca",
        "colab": {
          "base_uri": "https://localhost:8080/"
        }
      },
      "execution_count": 69,
      "outputs": [
        {
          "output_type": "execute_result",
          "data": {
            "text/plain": [
              "[0.7205882352941176,\n",
              " 0.8382352941176471,\n",
              " 0.8088235294117647,\n",
              " 0.8088235294117647,\n",
              " 0.8088235294117647,\n",
              " 0.8088235294117647,\n",
              " 0.7941176470588235,\n",
              " 0.7941176470588235]"
            ]
          },
          "metadata": {},
          "execution_count": 69
        }
      ]
    },
    {
      "cell_type": "code",
      "source": [
        "# preprocess the sentence\n",
        "correct = 0\n",
        "false = 0\n",
        "positive = 0\n",
        "negative = 0\n",
        "neutral = 0\n",
        "for i in range(len(dfTest)):\n",
        "  row = dfTest.iloc[i]\n",
        "  sentence = row['Sentence']\n",
        "  label = row['Sentiment']\n",
        "  input_ids = torch.tensor(tokenizer.encode(sentence, add_special_tokens=True)).unsqueeze(0)\n",
        "  attention_mask = torch.tensor([1] * input_ids.shape[1]).unsqueeze(0)\n",
        "\n",
        "  # get the predicted sentiment label\n",
        "  with torch.no_grad():\n",
        "      outputs = model(input_ids=input_ids, attention_mask=attention_mask)\n",
        "      _, predicted_label = torch.max(outputs[0], dim=1)\n",
        "  print(sentence, predicted_label,label)\n",
        "  if(label == 0):\n",
        "    negative = negative + 1\n",
        "  elif(label == 1):\n",
        "    neutral = neutral + 1\n",
        "  elif(label == 2):\n",
        "    positive = positive + 1\n",
        "  if(predicted_label == label):\n",
        "    correct = correct + 1\n",
        "  else:\n",
        "    false = false + 1\n",
        "  print(correct,false)"
      ],
      "metadata": {
        "colab": {
          "base_uri": "https://localhost:8080/"
        },
        "id": "e7FvBexUj79d",
        "outputId": "832ac12d-0f51-4598-90f1-6941ea667617"
      },
      "execution_count": 41,
      "outputs": [
        {
          "output_type": "stream",
          "name": "stdout",
          "text": [
            "The profits of the Gulf Livestock Company fell to 12.1 million dirhams in 2010, compared to 27.6 million dirhams in 2009. tensor([1]) 0\n",
            "0 1\n",
            "Error\n",
            "Aramex to discuss cash dividend of 16% for 2016 tensor([1]) 1\n",
            "1 1\n",
            "Error\n",
            "Al Ain Al Ahlia Insurance achieved a profit of AED 2.50 million in 2012 compared to AED 2.53 million in 2011. tensor([1]) 0\n",
            "1 2\n",
            "Error\n",
            "Umm Al Quwain Cement’s profit increased by 30% to AED 7.22 million in the first quarter of this year tensor([1]) 2\n",
            "1 3\n",
            "Error\n",
            "The General Assembly of Fujairah Cement Industries decided not to distribute cash dividends or shares for the year 2010. tensor([1]) 0\n",
            "1 4\n",
            "Error\n",
            "Next Tuesday, ADCB’s Board of Directors will meet to discuss some general matters. tensor([1]) 1\n",
            "2 4\n",
            "Error\n",
            "Dubai Development Company’s profit last year was AED 735,000 compared to AED 444,000 in 2013 tensor([1]) 2\n",
            "2 5\n",
            "Error\n",
            "Al Ain Al Ahlia Insurance Company announced that it will disclose its financial results for the third quarter of 2011 on 31/10/2011 tensor([1]) 1\n",
            "3 5\n",
            "Error\n",
            "HSBC to set up $100 million fund to support UAE SMEs tensor([1]) 2\n",
            "3 6\n",
            "Error\n",
            "The meeting of the Board of Directors of the Arab Company for Heavy Industries will be held on 17-12-2012 to discuss routine work only tensor([1]) 1\n",
            "4 6\n",
            "Error\n",
            "Ras Al Khaimah White Cement Company profits fell to AED 37.8 million in 2012 from AED 68.8 million in 2011 tensor([1]) 0\n",
            "4 7\n",
            "Error\n",
            "The General Assembly of the National Corporation for Tourism and Hotels approved the distribution of 60% cash dividends to its shareholders yesterday tensor([1]) 2\n",
            "4 8\n",
            "Error\n",
            "Ras Al Khaimah White Cement Company announced that it will announce the results of its work during the first quarter of this year next Saturday tensor([1]) 1\n",
            "5 8\n",
            "Abu Dhabi National Takaful Company increased profits to AED 9.26 million in 2012 from AED 4.24 million in 2011 tensor([1]) 2\n",
            "5 9\n",
            "Error\n",
            "Depa’s shares on the Dubai World Exchange fell 1.32 percent to close at $1.49, trading 261.4 thousand shares worth $392,000. tensor([1]) 0\n",
            "5 10\n",
            "Error\n",
            "Abu Dhabi National Energy Company (ADNEC) announced the repurchase of 2.2 million shares yesterday, with an average share purchase price of AED 1.97 tensor([1]) 2\n",
            "5 11\n",
            "Error\n",
            "Dubai: Amlak decided to hold a board meeting on February 26 to discuss the company’s regular business. tensor([1]) 1\n",
            "6 11\n",
            "Error\n",
            "Dana Gas’s general assembly has been postponed due to lack of quorum until April 23 next year. tensor([1]) 0\n",
            "6 12\n",
            "Error\n",
            "The Securities and Commodities Authority (SCA) has approved the purchase order of Bank of Sharjah for its shares not exceeding 10% (21,000,000 shares) of the company’s capital. tensor([1]) 2\n",
            "6 13\n",
            "Error\n",
            "Dubai Commercial Bank shares rose 29.14% to AED 4 yesterday by trading 5,655,000 shares in 12 transactions worth AED 3.2 million tensor([1]) 2\n",
            "6 14\n",
            "Error\n",
            "The Board of Directors of Al-Fardous Holding Company meets on Wednesday 26-6-2013 at 00:4 pm to approve the financial statements ended on 31-3-2013 tensor([1]) 1\n",
            "7 14\n",
            "Error\n",
            "Dubai Financial is close to breaking the highest price recorded in a year at AED 42.1 as it closed yesterday up 19.2% to AED 4.1 with trades of AED 109 million tensor([1]) 2\n",
            "7 15\n",
            "The Dubai Financial Market (DFM) has gained 29% since the start of the second quarter to record the second best performance among the 94 global indicators monitored by Bloomberg after Greece tensor([0]) 2\n",
            "7 16\n",
            "Error\n",
            "The Board of Directors of Tabreed Company will hold a meeting at 2:00 pm on Thursday 31 October to discuss the activities and business of the company tensor([0]) 1\n",
            "7 17\n",
            "Error\n",
            "The financial results of Green Crescent Insurance Company showed that the company suffered financial losses during the first period of this year amounted to 8 million dirhams tensor([0]) 0\n",
            "8 17\n",
            "Error\n",
            "The General Assembly of Abu Dhabi Airlines decided yesterday to distribute 7.5 percent in cash. tensor([0]) 1\n",
            "8 18\n",
            "Error\n",
            "Insider trading witnessed the purchase of 200,000 shares of Ajman Bank at a price of AED 0.86. tensor([0]) 1\n",
            "8 19\n",
            "Error\n",
            "Dubai Financial Market (DFM) announced yesterday that the decision to reduce the capital of Emirates Takaful by 33.33% has been activated. tensor([0]) 0\n",
            "9 19\n",
            "Error\n",
            "The Board of Directors of Tabreed will meet at 00:11 a.m. this afternoon to discuss the activities and business of the company. tensor([0]) 1\n",
            "9 20\n",
            "Error\n",
            "Umm Al Quwain Cement’s profits increased by 30% to AED 7.22 million in the first quarter of this year. tensor([0]) 2\n",
            "9 21\n",
            "Abu Dhabi Air’s profit fell by 1% to AED 3.212 million in 2013 and revenue by 2% to AED 6.1 billion. tensor([1]) 0\n",
            "9 22\n",
            "Error\n",
            "The Board of Directors of Drake & Scull announced that it has approved the appointment of Sultan Bin Rashid Al Dhaheri as a new Board Member. tensor([1]) 1\n",
            "10 22\n",
            "Error\n",
            "The profits of Ras Al Khaimah White Cement Company fell to AED 37.8 million in 2012, compared to a profit of AED 68.8 million in 2011. tensor([1]) 0\n",
            "10 23\n",
            "Error\n",
            "The Board of Directors of Dar Al Takaful Company will meet on the 14th of this month to approve the financial statements for the second quarter of this year. tensor([1]) 1\n",
            "11 23\n",
            "Error\n",
            "The Dubai Financial Market (DFM) announced the addition of Emirates Islamic Bank’s capital increase shares to shareholders’ accounts as at the closing date of the company’s register on 21/7/2010. tensor([1]) 2\n",
            "11 24\n",
            "Error\n",
            "Fujairah Commercial Center achieved a profit of AED 895,000 during the first half of this year compared to AED 841,000 during the same period last year. tensor([1]) 2\n",
            "11 25\n",
            "Error\n",
            "Dubai Abeer Abu Shamla: Tim Edwards, Director of Investment Strategies at S&P Dow Jones, said that the performance analysis of the Middle East markets in June showed that the UAE was the best performer in the S&P 40 index for companies from the GCC. In a statement sent to Al Khaleej News, he pointed out that while the global markets fell last month, the GCC’s performance was higher than the GCC’s. tensor([1]) 2\n",
            "11 26\n",
            "Insider trading saw the sale of 2,714 million shares of Arabtec at prices ranging from AED 2.87 to AED 2.95. tensor([1]) 1\n",
            "12 26\n",
            "Error\n",
            "Nomura Bank of Japan recommended the purchase of DP World shares and set the target price at $66.16 per share, which is 0% higher than the current share price. tensor([1]) 2\n",
            "12 27\n",
            "Error\n",
            "Abu Dhabi Commercial Bank (ADCB) in a recent report recommended the purchase of the shares of Emirates Integrated Telecommunications Company (EITC). The company’s fair value of its shares was AED 7 million by AED 6.01 at the close of yesterday. The report predicted that the company’s revenues will grow to AED 3.83 billion this year compared to AED 1.54 billion, a loss of approximately 89% in 2010. The company’s total profit is expected to fall from AED 859 million in 2007 to AED 2.37 billion this year. tensor([1]) 2\n",
            "12 28\n",
            "Error\n",
            "Abu Dhabi: Reem Investments’ Board of Directors announced a net profit of AED 211 million for the 2015 financial year at its Annual General Meeting. Abdulhamid Saeed, Managing Director of Reem Investments, said: “Despite the decline in oil prices and the value of shares in the UAE, the company’s investment portfolio has effectively contributed 20% to the net profit achieved. The company is in the final stages of starting new development projects that will lead to a continuous increase in revenues.” tensor([1]) 2\n",
            "12 29\n",
            "Error\n",
            "Depa confirmed in a statement published yesterday on the NASDAQ Dubai website that it has carried out additional operations within its share purchase program. It bought a total of approximately 100,000 shares during the period from July 1 to July 31 for a share price of $0.587 per share. The company has announced on November 26, 2008 that it intends to start a program to buy back its shares for a period of 12 months starting from November 27th. tensor([1]) 1\n",
            "13 29\n",
            "Error\n",
            "The value of purchases of non-Arab foreigners from shares in the Dubai Financial Market was AED 46.71 million and their sales amounted to AED 22.197 million. The value of purchases of Arab non-Gulf investors was AED 36.81 million and their sales amounted to AED 75.60 million. As for Gulf investors, their purchases amounted to AED 50.23 million and their sales amounted to AED 57.27 million. As a result of these developments, the total value of purchases of non-UAE nationals from shares amounted to AED 31.176. tensor([1]) 1\n",
            "14 29\n",
            "Error\n",
            "The Chartered Financial Analyst Institute (CFA) announced that Saeed Mubarak Al Hajeri, Chairman of ADIA Board of Directors, was elected to its Board of Governors, making him the first Gulf and Arab person to hold such a position. The announcement was made at a ceremony held in Vancouver, Canada, in the presence of the Chairman and members of the Board of Governors and a number of financial and economic leaders from around the world. tensor([1]) 1\n",
            "15 29\n",
            "Error\n",
            "The value of purchases of non-Arab foreigners from shares in the Dubai Financial Market amounted to AED 64.115 million and their sales amounted to AED 07.44 million. The value of purchases of Arab non-Gulf investors amounted to AED 84.75 million and their sales amounted to AED 23.78 million. As for Gulf investors, their purchases amounted to AED 17.28 million and their sales amounted to AED 13.31 million. The total value of sales of non-UAE nationals amounted to AED 65.219 million. tensor([1]) 1\n",
            "16 29\n",
            "Error\n",
            "The National Corporation for Tourism and Hotels achieved an increase in its profits by 62%, to 8 147 million dirhams in 2009 compared to 91 million dirhams in 2008. The company's revenues increased to reach 8.552 million dirhams in 2009 compared to 7.502 million dirhams in 2008 with an increase of 10%. The company's total assets increased to 8.1 billion dirhams in 2009 compared to 1.1 billion dirhams in 2008, while the shareholders' equity increased to 2.682 million dirhams in 2008. tensor([1]) 2\n",
            "16 30\n",
            "Error\n",
            "Yesterday, the stock markets made up part of their recent losses by improving stock prices and a significant increase in trading volume compared to previous sessions. The UAE index closed up 63.0% to 69.2487 points with a gain of AED 28.2 billion, bringing the market value to AED 8.366 billion with trades of AED 260 million. Dubai index rose 94.0% to 4.1528 points with trades of AED 1.63 million. tensor([1]) 2\n",
            "16 31\n",
            "Error\n",
            "Abu Dhabi - Ali Assaad: Local shares gained AED 10 billion as the UAE market index closed up by 37.1% to reach 3.4969 points. The market capitalization rose to AED 64.744 billion as the week closed. Shares saw a correction and profit on some stocks that had previously risen by AED 1.15 billion. The DFM index rose by 05.2% and closed up at 87.4182 points. tensor([1]) 2\n",
            "16 32\n",
            "Error\n",
            "National Cement Company's profits in the first quarter of 2010 amounted to AED 23,486 million compared to AED 75,515 million for the same period last year. Non-current assets amounted to AED 1,706 billion compared to AED 1,879 billion, traded assets AED 378,199 million compared to AED 423,111 million, and shareholders' equity AED 1,749 billion compared to AED 2,009 billion. tensor([1]) 2\n",
            "16 33\n",
            "Error\n",
            "Over the past week, the UAE market index rose by 2.48% to 2705.1 points in a gain of AED 9,629 billion, bringing the market value to AED 397,905 billion in weekly trades AED 1,359 billion. Dubai Financial increased by 8.4% to AED 1,29, Aldar increased by 6,06% to AED 1,4 %, Arabtec increased by 4,58% to AED 1,37 and Emaar by 3,53%. tensor([1]) 2\n",
            "16 34\n",
            "Error\n",
            "SALAMA Dubai Financial Market (DFM) informed that the Board of Directors of the company met on Saturday and recommended not to distribute profits to shareholders to enable the company to face future challenges. The Board of Directors decided, based on Article 27/1 of the Company’s Articles of Association and Article 106 of Federal Law No. 8 of 1984 on Commercial Companies and its amendments, to consider Reza Farid bin Bouzid resigned with the immediate effect of his absence from three consecutive meetings of the Board of the General Assembly Chamber without an acceptable excuse. tensor([1]) 0\n",
            "16 35\n",
            "Error\n",
            "Emaar MGF, a subsidiary of Emaar, hopes to revive a $64.1 billion IPO project in 12 months if market conditions allow. Sharavan Gupta, vice president and CEO, said the company is waiting for market stability. Emaar MGF said it has agreed with Marriott International to build four hotels in India with a total investment of more than $400 million. tensor([1]) 1\n",
            "17 35\n",
            "Error\n",
            "Mubasher said that its list of preferred shares in the Middle East and North Africa (MENA) grew by 58% in Jordan in 4 months. This increase was driven by 7 Egyptian shares and 4 Emirati shares. Mubasher added Dana Gas to its list of preferred shares because of its stable revenues and strong growth potential. As a result of the above, Mubasher has rebalanced the list of preferred shares in the Middle East and North Africa (MENA) by re-weighting all shares in equal proportions. tensor([1]) 2\n",
            "17 36\n",
            "Error\n",
            "During the week, the capital markets witnessed a further liquidity flow, which increased the strength of demand and boosted the gains by AED 25.9 billion, bringing the market value of shares to AED 9.561 billion at the end of yesterday’s trading. The increase in liquidity by 9.9% to AED 66.5 billion compared to AED 74.4 billion last week, contributed to the rise of the UAE market index by 77% to close at 75.3688 points, and the rise of the Abu Dhabi market index 3.9%. tensor([1]) 2\n",
            "17 37\n",
            "Error\n",
            "Union Properties said it was taking a decision to pass by today to convene the General Assembly on August 18 to approve the financing of the OIA project.The company added in a statement on the Dubai Financial Market that the meeting will include the approval of the Board of Directors' delegation of new powers, and the adoption of the company's articles of association. tensor([1]) 1\n",
            "18 37\n",
            "Error\n",
            "10 local shares at their lowest traded price yesterday recorded a new low of AED 01.1 and edifices at AED 0.92, Umm Al Quwain Cement at AED 0.55, Dana Gas at AED 0.51, driving at AED 3.15, Waha Capital at AED 0.55, Dubai Financial at AED 0.98, Dubai Investments at AED 0.7, Aman at AED 0.522 and Gulf Navigation at AED 0.242. tensor([1]) 0\n",
            "18 38\n",
            "Error\n",
            "The financial group Hermes recommended the purchase of shares of Aldar Properties and set its target price at AED 1.84.The report found that the company achieved a good profit for the first quarter of 2011 exceeding AED 189 million, contrary to Hermes estimates, which the latter considered a positive starting point for the other seasons of the year to continue the House to achieve more profits. tensor([1]) 2\n",
            "18 39\n",
            "Error\n",
            "Al Majid Motors, the sole distributor of Kia in the UAE, has announced the appointment of Mohammed Abdullah Rafiq Al Khader as the company’s General Manager. The new role of Mohammed Al Khader is focused on the company’s day-to-day business affairs, which include: sales, marketing, finance, services, and corporate communications with suppliers and third parties. tensor([1]) 1\n",
            "19 39\n",
            "Error\n",
            "DUBAI: Dubai set the price difference for its crude supply in August at 25 cents a barrel below Omani crude.The price difference will be applied to the average daily settlement prices of the nearest August delivery contract in Omani crude at the end of June to determine the official selling price of Dubai crude. tensor([1]) 1\n",
            "20 39\n",
            "Error\n",
            "The semi-annual interest rate of Dubai World Sukuk for the period from 6 May to 4 November 2008 is set at the annual rate of 3.3325%, including Libor rate at 2.8825%, plus a margin of 0.45%. The size of the Sukuk is $ 1 billion, while the value of the distributed interest is $ 16,847 million and the interest will be distributed on 4 November. tensor([1]) 1\n",
            "21 39\n",
            "Error\n",
            "The decline in local stock prices accelerated with the return of concern among investors to close the UAE market index down 23.2% to 12.2502 points with losses of 39.8 billion dirhams, bringing the market value to 96.367 billion dirhams with trades of about 370 million dirhams, as a result of the decline in the Dubai index 06.3% to 15.1531 points and the Abu Dhabi market index 97.1% to 99.2552 points. tensor([1]) 0\n",
            "21 40\n",
            "Error\n",
            "The meeting of the Board of Directors of Green Crescent Insurance Company was held yesterday at the company's headquarters in Abu Dhabi. The Board of Directors discussed the financial statements for the third quarter of 2010 and approved the formation of the Internal Control Department, in implementation of the provisions of Article (8) of 2009 on the rules of corporate governance and disciplinary standards of the Securities and Commodities Authority. tensor([1]) 1\n",
            "22 40\n",
            "Error\n",
            "The Board of Directors of the National Bank of Abu Dhabi (NBAD) approved the Bank’s budget for 2013, during a meeting of the Board of Directors held yesterday morning. tensor([1]) 1\n",
            "23 40\n",
            "Error\n",
            "The Dow Jones quoted an official of Ajman Islamic Bank that the bank may start listing its shares on the Dubai market in mid-May. tensor([1]) 1\n",
            "24 40\n",
            "Error\n",
            "Depa said in a statement on Nasdaq Dubai that it had completed new share buybacks, ending purchases of about 700,000 shares in November at an average price of $0.75. tensor([1]) 1\n",
            "25 40\n",
            "Error\n",
            "Dubai Islamic Insurance and Reinsurance Company (Aman) achieved a profit of AED 3.1 million at the end of the first quarter 2016, compared to a profit of AED 136.7 thousand achieved during the same period in 2015, and the written premiums increased to AED 92.1 million compared to AED 74.3 million during the first quarter of 2015. tensor([1]) 2\n",
            "25 41\n",
            "Error\n",
            "Gulf Investment Company’s profit in 2016 was AED 30.82 million, compared to AED 27.47 million in 2015, up 12.2%. The company recorded a profit of AED 16.8 million in the fourth quarter of last year, compared to a profit of AED 18.11 million in the fourth quarter of 2015, a decrease of 7%. tensor([1]) 2\n",
            "25 42\n",
            "Error\n",
            "Fujairah National Insurance achieved a net profit of AED 12.97 million during the first quarter of this year, an increase of 105.7%, while the total premiums increased 12.7%, to AED 53.97 million. Insurance profits rose 76.3% to AED 10.7 million, and investment profits reached 128% to AED 3.9 million. tensor([1]) 2\n",
            "25 43\n"
          ]
        }
      ]
    },
    {
      "cell_type": "code",
      "source": [
        "print(\"Accuracy of testing = \", 100 * correct / (correct + false)) \n",
        "print(negative,positive,neutral) "
      ],
      "metadata": {
        "id": "WquWL3kTj7_v",
        "outputId": "28a5e4d7-fd5a-4fc8-92b8-f73a41c41b85",
        "colab": {
          "base_uri": "https://localhost:8080/"
        }
      },
      "execution_count": 43,
      "outputs": [
        {
          "output_type": "stream",
          "name": "stdout",
          "text": [
            "Accuracy of testing =  36.76470588235294\n",
            "13 28 27\n"
          ]
        }
      ]
    }
  ]
}