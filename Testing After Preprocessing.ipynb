{
  "nbformat": 4,
  "nbformat_minor": 0,
  "metadata": {
    "colab": {
      "provenance": [],
      "authorship_tag": "ABX9TyNTxDyk7dGHtSP8uch2PV7R",
      "include_colab_link": true
    },
    "kernelspec": {
      "name": "python3",
      "display_name": "Python 3"
    },
    "language_info": {
      "name": "python"
    }
  },
  "cells": [
    {
      "cell_type": "markdown",
      "metadata": {
        "id": "view-in-github",
        "colab_type": "text"
      },
      "source": [
        "<a href=\"https://colab.research.google.com/github/GeorgeSherif/NLP-ChatEGP/blob/main/Testing%20After%20Preprocessing.ipynb\" target=\"_parent\"><img src=\"https://colab.research.google.com/assets/colab-badge.svg\" alt=\"Open In Colab\"/></a>"
      ]
    },
    {
      "cell_type": "markdown",
      "source": [
        "###Testing with the Arabic Dataset.\n",
        "\n",
        "\n",
        "1.   Load the model.\n",
        "2.   Load the dataset.\n",
        "3.   Translate the dataset and preprocess it.\n",
        "4.   Test using the model.\n",
        "\n"
      ],
      "metadata": {
        "id": "Oh-WUpMAjVmR"
      }
    },
    {
      "cell_type": "code",
      "source": [
        "!pip install xformers transformers sentencepiece torch pygal torchvision sacremoses\n"
      ],
      "metadata": {
        "id": "000lPwkHjkc5",
        "outputId": "7e3f9795-c730-464f-8735-5032141d91bf",
        "colab": {
          "base_uri": "https://localhost:8080/"
        }
      },
      "execution_count": null,
      "outputs": [
        {
          "output_type": "stream",
          "name": "stdout",
          "text": [
            "Looking in indexes: https://pypi.org/simple, https://us-python.pkg.dev/colab-wheels/public/simple/\n",
            "Collecting xformers\n",
            "  Downloading xformers-0.0.19-cp310-cp310-manylinux2014_x86_64.whl (108.2 MB)\n",
            "\u001b[2K     \u001b[90m━━━━━━━━━━━━━━━━━━━━━━━━━━━━━━━━━━━━━━━\u001b[0m \u001b[32m108.2/108.2 MB\u001b[0m \u001b[31m9.2 MB/s\u001b[0m eta \u001b[36m0:00:00\u001b[0m\n",
            "\u001b[?25hCollecting transformers\n",
            "  Downloading transformers-4.29.2-py3-none-any.whl (7.1 MB)\n",
            "\u001b[2K     \u001b[90m━━━━━━━━━━━━━━━━━━━━━━━━━━━━━━━━━━━━━━━━\u001b[0m \u001b[32m7.1/7.1 MB\u001b[0m \u001b[31m64.7 MB/s\u001b[0m eta \u001b[36m0:00:00\u001b[0m\n",
            "\u001b[?25hCollecting sentencepiece\n",
            "  Downloading sentencepiece-0.1.99-cp310-cp310-manylinux_2_17_x86_64.manylinux2014_x86_64.whl (1.3 MB)\n",
            "\u001b[2K     \u001b[90m━━━━━━━━━━━━━━━━━━━━━━━━━━━━━━━━━━━━━━━━\u001b[0m \u001b[32m1.3/1.3 MB\u001b[0m \u001b[31m32.4 MB/s\u001b[0m eta \u001b[36m0:00:00\u001b[0m\n",
            "\u001b[?25hRequirement already satisfied: torch in /usr/local/lib/python3.10/dist-packages (2.0.1+cu118)\n",
            "Collecting pygal\n",
            "  Downloading pygal-3.0.0-py2.py3-none-any.whl (129 kB)\n",
            "\u001b[2K     \u001b[90m━━━━━━━━━━━━━━━━━━━━━━━━━━━━━━━━━━━━━━\u001b[0m \u001b[32m129.4/129.4 kB\u001b[0m \u001b[31m10.1 MB/s\u001b[0m eta \u001b[36m0:00:00\u001b[0m\n",
            "\u001b[?25hRequirement already satisfied: torchvision in /usr/local/lib/python3.10/dist-packages (0.15.2+cu118)\n",
            "Collecting sacremoses\n",
            "  Downloading sacremoses-0.0.53.tar.gz (880 kB)\n",
            "\u001b[2K     \u001b[90m━━━━━━━━━━━━━━━━━━━━━━━━━━━━━━━━━━━━━━\u001b[0m \u001b[32m880.6/880.6 kB\u001b[0m \u001b[31m26.2 MB/s\u001b[0m eta \u001b[36m0:00:00\u001b[0m\n",
            "\u001b[?25h  Preparing metadata (setup.py) ... \u001b[?25l\u001b[?25hdone\n",
            "Requirement already satisfied: numpy in /usr/local/lib/python3.10/dist-packages (from xformers) (1.22.4)\n",
            "Collecting pyre-extensions==0.0.29 (from xformers)\n",
            "  Downloading pyre_extensions-0.0.29-py3-none-any.whl (12 kB)\n",
            "Collecting torch\n",
            "  Downloading torch-2.0.0-cp310-cp310-manylinux1_x86_64.whl (619.9 MB)\n",
            "\u001b[2K     \u001b[90m━━━━━━━━━━━━━━━━━━━━━━━━━━━━━━━━━━━━━━━\u001b[0m \u001b[32m619.9/619.9 MB\u001b[0m \u001b[31m2.1 MB/s\u001b[0m eta \u001b[36m0:00:00\u001b[0m\n",
            "\u001b[?25hRequirement already satisfied: filelock in /usr/local/lib/python3.10/dist-packages (from torch) (3.12.0)\n",
            "Requirement already satisfied: typing-extensions in /usr/local/lib/python3.10/dist-packages (from torch) (4.5.0)\n",
            "Requirement already satisfied: sympy in /usr/local/lib/python3.10/dist-packages (from torch) (1.11.1)\n",
            "Requirement already satisfied: networkx in /usr/local/lib/python3.10/dist-packages (from torch) (3.1)\n",
            "Requirement already satisfied: jinja2 in /usr/local/lib/python3.10/dist-packages (from torch) (3.1.2)\n",
            "Collecting nvidia-cuda-nvrtc-cu11==11.7.99 (from torch)\n",
            "  Downloading nvidia_cuda_nvrtc_cu11-11.7.99-2-py3-none-manylinux1_x86_64.whl (21.0 MB)\n",
            "\u001b[2K     \u001b[90m━━━━━━━━━━━━━━━━━━━━━━━━━━━━━━━━━━━━━━━━\u001b[0m \u001b[32m21.0/21.0 MB\u001b[0m \u001b[31m68.4 MB/s\u001b[0m eta \u001b[36m0:00:00\u001b[0m\n",
            "\u001b[?25hCollecting nvidia-cuda-runtime-cu11==11.7.99 (from torch)\n",
            "  Downloading nvidia_cuda_runtime_cu11-11.7.99-py3-none-manylinux1_x86_64.whl (849 kB)\n",
            "\u001b[2K     \u001b[90m━━━━━━━━━━━━━━━━━━━━━━━━━━━━━━━━━━━━━━\u001b[0m \u001b[32m849.3/849.3 kB\u001b[0m \u001b[31m66.2 MB/s\u001b[0m eta \u001b[36m0:00:00\u001b[0m\n",
            "\u001b[?25hCollecting nvidia-cuda-cupti-cu11==11.7.101 (from torch)\n",
            "  Downloading nvidia_cuda_cupti_cu11-11.7.101-py3-none-manylinux1_x86_64.whl (11.8 MB)\n",
            "\u001b[2K     \u001b[90m━━━━━━━━━━━━━━━━━━━━━━━━━━━━━━━━━━━━━━━━\u001b[0m \u001b[32m11.8/11.8 MB\u001b[0m \u001b[31m98.4 MB/s\u001b[0m eta \u001b[36m0:00:00\u001b[0m\n",
            "\u001b[?25hCollecting nvidia-cudnn-cu11==8.5.0.96 (from torch)\n",
            "  Downloading nvidia_cudnn_cu11-8.5.0.96-2-py3-none-manylinux1_x86_64.whl (557.1 MB)\n",
            "\u001b[2K     \u001b[90m━━━━━━━━━━━━━━━━━━━━━━━━━━━━━━━━━━━━━━━\u001b[0m \u001b[32m557.1/557.1 MB\u001b[0m \u001b[31m2.9 MB/s\u001b[0m eta \u001b[36m0:00:00\u001b[0m\n",
            "\u001b[?25hCollecting nvidia-cublas-cu11==11.10.3.66 (from torch)\n",
            "  Downloading nvidia_cublas_cu11-11.10.3.66-py3-none-manylinux1_x86_64.whl (317.1 MB)\n",
            "\u001b[2K     \u001b[90m━━━━━━━━━━━━━━━━━━━━━━━━━━━━━━━━━━━━━━━\u001b[0m \u001b[32m317.1/317.1 MB\u001b[0m \u001b[31m2.4 MB/s\u001b[0m eta \u001b[36m0:00:00\u001b[0m\n",
            "\u001b[?25hCollecting nvidia-cufft-cu11==10.9.0.58 (from torch)\n",
            "  Downloading nvidia_cufft_cu11-10.9.0.58-py3-none-manylinux1_x86_64.whl (168.4 MB)\n",
            "\u001b[2K     \u001b[90m━━━━━━━━━━━━━━━━━━━━━━━━━━━━━━━━━━━━━━━\u001b[0m \u001b[32m168.4/168.4 MB\u001b[0m \u001b[31m7.1 MB/s\u001b[0m eta \u001b[36m0:00:00\u001b[0m\n",
            "\u001b[?25hCollecting nvidia-curand-cu11==10.2.10.91 (from torch)\n",
            "  Downloading nvidia_curand_cu11-10.2.10.91-py3-none-manylinux1_x86_64.whl (54.6 MB)\n",
            "\u001b[2K     \u001b[90m━━━━━━━━━━━━━━━━━━━━━━━━━━━━━━━━━━━━━━━━\u001b[0m \u001b[32m54.6/54.6 MB\u001b[0m \u001b[31m12.4 MB/s\u001b[0m eta \u001b[36m0:00:00\u001b[0m\n",
            "\u001b[?25hCollecting nvidia-cusolver-cu11==11.4.0.1 (from torch)\n",
            "  Downloading nvidia_cusolver_cu11-11.4.0.1-2-py3-none-manylinux1_x86_64.whl (102.6 MB)\n",
            "\u001b[2K     \u001b[90m━━━━━━━━━━━━━━━━━━━━━━━━━━━━━━━━━━━━━━━\u001b[0m \u001b[32m102.6/102.6 MB\u001b[0m \u001b[31m8.9 MB/s\u001b[0m eta \u001b[36m0:00:00\u001b[0m\n",
            "\u001b[?25hCollecting nvidia-cusparse-cu11==11.7.4.91 (from torch)\n",
            "  Downloading nvidia_cusparse_cu11-11.7.4.91-py3-none-manylinux1_x86_64.whl (173.2 MB)\n",
            "\u001b[2K     \u001b[90m━━━━━━━━━━━━━━━━━━━━━━━━━━━━━━━━━━━━━━━\u001b[0m \u001b[32m173.2/173.2 MB\u001b[0m \u001b[31m7.0 MB/s\u001b[0m eta \u001b[36m0:00:00\u001b[0m\n",
            "\u001b[?25hCollecting nvidia-nccl-cu11==2.14.3 (from torch)\n",
            "  Downloading nvidia_nccl_cu11-2.14.3-py3-none-manylinux1_x86_64.whl (177.1 MB)\n",
            "\u001b[2K     \u001b[90m━━━━━━━━━━━━━━━━━━━━━━━━━━━━━━━━━━━━━━━\u001b[0m \u001b[32m177.1/177.1 MB\u001b[0m \u001b[31m6.7 MB/s\u001b[0m eta \u001b[36m0:00:00\u001b[0m\n",
            "\u001b[?25hCollecting nvidia-nvtx-cu11==11.7.91 (from torch)\n",
            "  Downloading nvidia_nvtx_cu11-11.7.91-py3-none-manylinux1_x86_64.whl (98 kB)\n",
            "\u001b[2K     \u001b[90m━━━━━━━━━━━━━━━━━━━━━━━━━━━━━━━━━━━━━━━━\u001b[0m \u001b[32m98.6/98.6 kB\u001b[0m \u001b[31m11.6 MB/s\u001b[0m eta \u001b[36m0:00:00\u001b[0m\n",
            "\u001b[?25hRequirement already satisfied: triton==2.0.0 in /usr/local/lib/python3.10/dist-packages (from torch) (2.0.0)\n",
            "Requirement already satisfied: setuptools in /usr/local/lib/python3.10/dist-packages (from nvidia-cublas-cu11==11.10.3.66->torch) (67.7.2)\n",
            "Requirement already satisfied: wheel in /usr/local/lib/python3.10/dist-packages (from nvidia-cublas-cu11==11.10.3.66->torch) (0.40.0)\n",
            "Collecting typing-inspect (from pyre-extensions==0.0.29->xformers)\n",
            "  Downloading typing_inspect-0.8.0-py3-none-any.whl (8.7 kB)\n",
            "Requirement already satisfied: cmake in /usr/local/lib/python3.10/dist-packages (from triton==2.0.0->torch) (3.25.2)\n",
            "Requirement already satisfied: lit in /usr/local/lib/python3.10/dist-packages (from triton==2.0.0->torch) (16.0.5)\n",
            "Collecting huggingface-hub<1.0,>=0.14.1 (from transformers)\n",
            "  Downloading huggingface_hub-0.14.1-py3-none-any.whl (224 kB)\n",
            "\u001b[2K     \u001b[90m━━━━━━━━━━━━━━━━━━━━━━━━━━━━━━━━━━━━━━\u001b[0m \u001b[32m224.5/224.5 kB\u001b[0m \u001b[31m25.3 MB/s\u001b[0m eta \u001b[36m0:00:00\u001b[0m\n",
            "\u001b[?25hRequirement already satisfied: packaging>=20.0 in /usr/local/lib/python3.10/dist-packages (from transformers) (23.1)\n",
            "Requirement already satisfied: pyyaml>=5.1 in /usr/local/lib/python3.10/dist-packages (from transformers) (6.0)\n",
            "Requirement already satisfied: regex!=2019.12.17 in /usr/local/lib/python3.10/dist-packages (from transformers) (2022.10.31)\n",
            "Requirement already satisfied: requests in /usr/local/lib/python3.10/dist-packages (from transformers) (2.27.1)\n",
            "Collecting tokenizers!=0.11.3,<0.14,>=0.11.1 (from transformers)\n",
            "  Downloading tokenizers-0.13.3-cp310-cp310-manylinux_2_17_x86_64.manylinux2014_x86_64.whl (7.8 MB)\n",
            "\u001b[2K     \u001b[90m━━━━━━━━━━━━━━━━━━━━━━━━━━━━━━━━━━━━━━━━\u001b[0m \u001b[32m7.8/7.8 MB\u001b[0m \u001b[31m80.1 MB/s\u001b[0m eta \u001b[36m0:00:00\u001b[0m\n",
            "\u001b[?25hRequirement already satisfied: tqdm>=4.27 in /usr/local/lib/python3.10/dist-packages (from transformers) (4.65.0)\n",
            "INFO: pip is looking at multiple versions of torchvision to determine which version is compatible with other requirements. This could take a while.\n",
            "Collecting torchvision\n",
            "  Downloading torchvision-0.15.2-cp310-cp310-manylinux1_x86_64.whl (6.0 MB)\n",
            "\u001b[2K     \u001b[90m━━━━━━━━━━━━━━━━━━━━━━━━━━━━━━━━━━━━━━━━\u001b[0m \u001b[32m6.0/6.0 MB\u001b[0m \u001b[31m82.9 MB/s\u001b[0m eta \u001b[36m0:00:00\u001b[0m\n",
            "\u001b[?25h  Downloading torchvision-0.15.1-cp310-cp310-manylinux1_x86_64.whl (6.0 MB)\n",
            "\u001b[2K     \u001b[90m━━━━━━━━━━━━━━━━━━━━━━━━━━━━━━━━━━━━━━━━\u001b[0m \u001b[32m6.0/6.0 MB\u001b[0m \u001b[31m83.8 MB/s\u001b[0m eta \u001b[36m0:00:00\u001b[0m\n",
            "\u001b[?25hRequirement already satisfied: pillow!=8.3.*,>=5.3.0 in /usr/local/lib/python3.10/dist-packages (from torchvision) (8.4.0)\n",
            "Requirement already satisfied: six in /usr/local/lib/python3.10/dist-packages (from sacremoses) (1.16.0)\n",
            "Requirement already satisfied: click in /usr/local/lib/python3.10/dist-packages (from sacremoses) (8.1.3)\n",
            "Requirement already satisfied: joblib in /usr/local/lib/python3.10/dist-packages (from sacremoses) (1.2.0)\n",
            "Requirement already satisfied: fsspec in /usr/local/lib/python3.10/dist-packages (from huggingface-hub<1.0,>=0.14.1->transformers) (2023.4.0)\n",
            "Requirement already satisfied: MarkupSafe>=2.0 in /usr/local/lib/python3.10/dist-packages (from jinja2->torch) (2.1.2)\n",
            "Requirement already satisfied: urllib3<1.27,>=1.21.1 in /usr/local/lib/python3.10/dist-packages (from requests->transformers) (1.26.15)\n",
            "Requirement already satisfied: certifi>=2017.4.17 in /usr/local/lib/python3.10/dist-packages (from requests->transformers) (2022.12.7)\n",
            "Requirement already satisfied: charset-normalizer~=2.0.0 in /usr/local/lib/python3.10/dist-packages (from requests->transformers) (2.0.12)\n",
            "Requirement already satisfied: idna<4,>=2.5 in /usr/local/lib/python3.10/dist-packages (from requests->transformers) (3.4)\n",
            "Requirement already satisfied: mpmath>=0.19 in /usr/local/lib/python3.10/dist-packages (from sympy->torch) (1.3.0)\n",
            "Collecting mypy-extensions>=0.3.0 (from typing-inspect->pyre-extensions==0.0.29->xformers)\n",
            "  Downloading mypy_extensions-1.0.0-py3-none-any.whl (4.7 kB)\n",
            "Building wheels for collected packages: sacremoses\n",
            "  Building wheel for sacremoses (setup.py) ... \u001b[?25l\u001b[?25hdone\n",
            "  Created wheel for sacremoses: filename=sacremoses-0.0.53-py3-none-any.whl size=895241 sha256=d734f52c20fe24a6c91a37ded57945220746af30b46600889a6e143f832d95bc\n",
            "  Stored in directory: /root/.cache/pip/wheels/00/24/97/a2ea5324f36bc626e1ea0267f33db6aa80d157ee977e9e42fb\n",
            "Successfully built sacremoses\n",
            "Installing collected packages: tokenizers, sentencepiece, pygal, sacremoses, nvidia-nvtx-cu11, nvidia-nccl-cu11, nvidia-cusparse-cu11, nvidia-curand-cu11, nvidia-cufft-cu11, nvidia-cuda-runtime-cu11, nvidia-cuda-nvrtc-cu11, nvidia-cuda-cupti-cu11, nvidia-cublas-cu11, mypy-extensions, typing-inspect, nvidia-cusolver-cu11, nvidia-cudnn-cu11, huggingface-hub, transformers, pyre-extensions, torch, xformers, torchvision\n",
            "  Attempting uninstall: torch\n",
            "    Found existing installation: torch 2.0.1+cu118\n",
            "    Uninstalling torch-2.0.1+cu118:\n",
            "      Successfully uninstalled torch-2.0.1+cu118\n",
            "  Attempting uninstall: torchvision\n",
            "    Found existing installation: torchvision 0.15.2+cu118\n",
            "    Uninstalling torchvision-0.15.2+cu118:\n",
            "      Successfully uninstalled torchvision-0.15.2+cu118\n",
            "\u001b[31mERROR: pip's dependency resolver does not currently take into account all the packages that are installed. This behaviour is the source of the following dependency conflicts.\n",
            "torchaudio 2.0.2+cu118 requires torch==2.0.1, but you have torch 2.0.0 which is incompatible.\n",
            "torchdata 0.6.1 requires torch==2.0.1, but you have torch 2.0.0 which is incompatible.\n",
            "torchtext 0.15.2 requires torch==2.0.1, but you have torch 2.0.0 which is incompatible.\u001b[0m\u001b[31m\n",
            "\u001b[0mSuccessfully installed huggingface-hub-0.14.1 mypy-extensions-1.0.0 nvidia-cublas-cu11-11.10.3.66 nvidia-cuda-cupti-cu11-11.7.101 nvidia-cuda-nvrtc-cu11-11.7.99 nvidia-cuda-runtime-cu11-11.7.99 nvidia-cudnn-cu11-8.5.0.96 nvidia-cufft-cu11-10.9.0.58 nvidia-curand-cu11-10.2.10.91 nvidia-cusolver-cu11-11.4.0.1 nvidia-cusparse-cu11-11.7.4.91 nvidia-nccl-cu11-2.14.3 nvidia-nvtx-cu11-11.7.91 pygal-3.0.0 pyre-extensions-0.0.29 sacremoses-0.0.53 sentencepiece-0.1.99 tokenizers-0.13.3 torch-2.0.0 torchvision-0.15.1 transformers-4.29.2 typing-inspect-0.8.0 xformers-0.0.19\n"
          ]
        }
      ]
    },
    {
      "cell_type": "code",
      "source": [
        "import pandas as pd\n",
        "import numpy as np\n",
        "import os\n",
        "import warnings\n",
        "import csv\n",
        "import re\n",
        "import seaborn as sns\n",
        "import pygal as py\n",
        "import torch\n",
        "import torchvision\n",
        "import nltk\n",
        "import spacy \n",
        "\n",
        "from nltk.tokenize import sent_tokenize\n",
        "from nltk.tokenize import word_tokenize\n",
        "from nltk.stem import WordNetLemmatizer\n",
        "from nltk.stem.porter import PorterStemmer\n",
        "from nltk.corpus import stopwords\n",
        "from nltk.stem.snowball import SnowballStemmer\n",
        "from nltk.stem.porter import *\n",
        "\n",
        "nltk.download('punkt')\n",
        "nltk.download('wordnet')\n",
        "nltk.download('omw-1.4')\n",
        "nltk.download('stopwords')\n",
        "from sklearn.feature_extraction.text import CountVectorizer\n",
        "\n",
        "warnings.filterwarnings(\"ignore\", category=FutureWarning)\n"
      ],
      "metadata": {
        "id": "bAm02TPIklgL"
      },
      "execution_count": null,
      "outputs": []
    },
    {
      "cell_type": "code",
      "execution_count": null,
      "metadata": {
        "id": "7lf2goZojUBI",
        "outputId": "a41aba2e-1308-4f8f-cdb5-3892c79dbd19",
        "colab": {
          "base_uri": "https://localhost:8080/"
        }
      },
      "outputs": [
        {
          "output_type": "stream",
          "name": "stdout",
          "text": [
            "Drive already mounted at /content/gdrive; to attempt to forcibly remount, call drive.mount(\"/content/gdrive\", force_remount=True).\n"
          ]
        }
      ],
      "source": [
        "from google.colab import drive\n",
        "from IPython.display import display # Allows the use of display() for DataFrames\n",
        "drive.mount('/content/gdrive')"
      ]
    },
    {
      "cell_type": "code",
      "source": [
        "if torch.cuda.is_available():\n",
        "    device = torch.device('cuda')\n",
        "else:\n",
        "    device = torch.device('cpu')"
      ],
      "metadata": {
        "id": "_2oJwspBjevB"
      },
      "execution_count": null,
      "outputs": []
    },
    {
      "cell_type": "code",
      "source": [
        "import pandas as pd\n",
        "import numpy as np\n",
        "dfTest = pd.read_csv('/content/gdrive/MyDrive/NLP/labelled.csv' ,engine=\"python\")"
      ],
      "metadata": {
        "id": "IpBa56PKjqGT"
      },
      "execution_count": null,
      "outputs": []
    },
    {
      "cell_type": "code",
      "source": [
        "from transformers import MarianTokenizer, MarianMTModel\n",
        "mname = \"Helsinki-NLP/opus-mt-tc-big-ar-en\"\n",
        "tokenizer = MarianTokenizer.from_pretrained(mname)\n",
        "model_translate = MarianMTModel.from_pretrained(mname)"
      ],
      "metadata": {
        "id": "mLSRo-lAjudp"
      },
      "execution_count": null,
      "outputs": []
    },
    {
      "cell_type": "code",
      "source": [
        "translated = []\n",
        "for i in range(len(dfTest)):\n",
        "  input = dfTest['Sentence'][i]\n",
        "  translated_tokens = model_translate.generate(**tokenizer.prepare_seq2seq_batch([input], return_tensors=\"pt\"))\n",
        "  translated_text = [tokenizer.decode(t, skip_special_tokens=True) for t in translated_tokens]\n",
        "  translated.append(translated_text[0])\n",
        "dfTest['English'] = translated"
      ],
      "metadata": {
        "colab": {
          "base_uri": "https://localhost:8080/"
        },
        "id": "WnmNSHQxjugA",
        "outputId": "24f54e46-aeb9-4b12-8882-646930db4850"
      },
      "execution_count": null,
      "outputs": [
        {
          "output_type": "stream",
          "name": "stderr",
          "text": [
            "/usr/local/lib/python3.10/dist-packages/transformers/generation/utils.py:1346: UserWarning: Using `max_length`'s default (512) to control the generation length. This behaviour is deprecated and will be removed from the config in v5 of Transformers -- we recommend using `max_new_tokens` to control the maximum length of the generation.\n",
            "  warnings.warn(\n"
          ]
        }
      ]
    },
    {
      "cell_type": "code",
      "source": [
        "dfTest = dfTest.drop([\"Sentence\",\"id\"] , axis =1)\n",
        "dfTest = dfTest.rename(columns={'label': 'Sentiment', 'English':'Sentence'})\n",
        "dfTest['Sentiment'] = dfTest['Sentiment'].replace(['negative','neutral','positive'],[0,1,2])\n",
        "dfTest"
      ],
      "metadata": {
        "colab": {
          "base_uri": "https://localhost:8080/",
          "height": 423
        },
        "id": "vXe5Zar1juiw",
        "outputId": "f401cb17-12dd-4d63-b88e-7894065ffb66"
      },
      "execution_count": null,
      "outputs": [
        {
          "output_type": "execute_result",
          "data": {
            "text/plain": [
              "    Sentiment                                           Sentence\n",
              "0           0  The profits of the Gulf Livestock Company fell...\n",
              "1           1    Aramex to discuss cash dividend of 16% for 2016\n",
              "2           2  Al Ain Al Ahlia Insurance achieved a profit of...\n",
              "3           2  Umm Al Quwain Cement’s profit increased by 30%...\n",
              "4           0  The General Assembly of Fujairah Cement Indust...\n",
              "..        ...                                                ...\n",
              "63          1  The Dow Jones quoted an official of Ajman Isla...\n",
              "64          1  Depa said in a statement on Nasdaq Dubai that ...\n",
              "65          2  Dubai Islamic Insurance and Reinsurance Compan...\n",
              "66          2  Gulf Investment Company’s profit in 2016 was A...\n",
              "67          2  Fujairah National Insurance achieved a net pro...\n",
              "\n",
              "[68 rows x 2 columns]"
            ],
            "text/html": [
              "\n",
              "  <div id=\"df-3aca7d3f-ffb8-49bf-9b9c-6ab733907b18\">\n",
              "    <div class=\"colab-df-container\">\n",
              "      <div>\n",
              "<style scoped>\n",
              "    .dataframe tbody tr th:only-of-type {\n",
              "        vertical-align: middle;\n",
              "    }\n",
              "\n",
              "    .dataframe tbody tr th {\n",
              "        vertical-align: top;\n",
              "    }\n",
              "\n",
              "    .dataframe thead th {\n",
              "        text-align: right;\n",
              "    }\n",
              "</style>\n",
              "<table border=\"1\" class=\"dataframe\">\n",
              "  <thead>\n",
              "    <tr style=\"text-align: right;\">\n",
              "      <th></th>\n",
              "      <th>Sentiment</th>\n",
              "      <th>Sentence</th>\n",
              "    </tr>\n",
              "  </thead>\n",
              "  <tbody>\n",
              "    <tr>\n",
              "      <th>0</th>\n",
              "      <td>0</td>\n",
              "      <td>The profits of the Gulf Livestock Company fell...</td>\n",
              "    </tr>\n",
              "    <tr>\n",
              "      <th>1</th>\n",
              "      <td>1</td>\n",
              "      <td>Aramex to discuss cash dividend of 16% for 2016</td>\n",
              "    </tr>\n",
              "    <tr>\n",
              "      <th>2</th>\n",
              "      <td>2</td>\n",
              "      <td>Al Ain Al Ahlia Insurance achieved a profit of...</td>\n",
              "    </tr>\n",
              "    <tr>\n",
              "      <th>3</th>\n",
              "      <td>2</td>\n",
              "      <td>Umm Al Quwain Cement’s profit increased by 30%...</td>\n",
              "    </tr>\n",
              "    <tr>\n",
              "      <th>4</th>\n",
              "      <td>0</td>\n",
              "      <td>The General Assembly of Fujairah Cement Indust...</td>\n",
              "    </tr>\n",
              "    <tr>\n",
              "      <th>...</th>\n",
              "      <td>...</td>\n",
              "      <td>...</td>\n",
              "    </tr>\n",
              "    <tr>\n",
              "      <th>63</th>\n",
              "      <td>1</td>\n",
              "      <td>The Dow Jones quoted an official of Ajman Isla...</td>\n",
              "    </tr>\n",
              "    <tr>\n",
              "      <th>64</th>\n",
              "      <td>1</td>\n",
              "      <td>Depa said in a statement on Nasdaq Dubai that ...</td>\n",
              "    </tr>\n",
              "    <tr>\n",
              "      <th>65</th>\n",
              "      <td>2</td>\n",
              "      <td>Dubai Islamic Insurance and Reinsurance Compan...</td>\n",
              "    </tr>\n",
              "    <tr>\n",
              "      <th>66</th>\n",
              "      <td>2</td>\n",
              "      <td>Gulf Investment Company’s profit in 2016 was A...</td>\n",
              "    </tr>\n",
              "    <tr>\n",
              "      <th>67</th>\n",
              "      <td>2</td>\n",
              "      <td>Fujairah National Insurance achieved a net pro...</td>\n",
              "    </tr>\n",
              "  </tbody>\n",
              "</table>\n",
              "<p>68 rows × 2 columns</p>\n",
              "</div>\n",
              "      <button class=\"colab-df-convert\" onclick=\"convertToInteractive('df-3aca7d3f-ffb8-49bf-9b9c-6ab733907b18')\"\n",
              "              title=\"Convert this dataframe to an interactive table.\"\n",
              "              style=\"display:none;\">\n",
              "        \n",
              "  <svg xmlns=\"http://www.w3.org/2000/svg\" height=\"24px\"viewBox=\"0 0 24 24\"\n",
              "       width=\"24px\">\n",
              "    <path d=\"M0 0h24v24H0V0z\" fill=\"none\"/>\n",
              "    <path d=\"M18.56 5.44l.94 2.06.94-2.06 2.06-.94-2.06-.94-.94-2.06-.94 2.06-2.06.94zm-11 1L8.5 8.5l.94-2.06 2.06-.94-2.06-.94L8.5 2.5l-.94 2.06-2.06.94zm10 10l.94 2.06.94-2.06 2.06-.94-2.06-.94-.94-2.06-.94 2.06-2.06.94z\"/><path d=\"M17.41 7.96l-1.37-1.37c-.4-.4-.92-.59-1.43-.59-.52 0-1.04.2-1.43.59L10.3 9.45l-7.72 7.72c-.78.78-.78 2.05 0 2.83L4 21.41c.39.39.9.59 1.41.59.51 0 1.02-.2 1.41-.59l7.78-7.78 2.81-2.81c.8-.78.8-2.07 0-2.86zM5.41 20L4 18.59l7.72-7.72 1.47 1.35L5.41 20z\"/>\n",
              "  </svg>\n",
              "      </button>\n",
              "      \n",
              "  <style>\n",
              "    .colab-df-container {\n",
              "      display:flex;\n",
              "      flex-wrap:wrap;\n",
              "      gap: 12px;\n",
              "    }\n",
              "\n",
              "    .colab-df-convert {\n",
              "      background-color: #E8F0FE;\n",
              "      border: none;\n",
              "      border-radius: 50%;\n",
              "      cursor: pointer;\n",
              "      display: none;\n",
              "      fill: #1967D2;\n",
              "      height: 32px;\n",
              "      padding: 0 0 0 0;\n",
              "      width: 32px;\n",
              "    }\n",
              "\n",
              "    .colab-df-convert:hover {\n",
              "      background-color: #E2EBFA;\n",
              "      box-shadow: 0px 1px 2px rgba(60, 64, 67, 0.3), 0px 1px 3px 1px rgba(60, 64, 67, 0.15);\n",
              "      fill: #174EA6;\n",
              "    }\n",
              "\n",
              "    [theme=dark] .colab-df-convert {\n",
              "      background-color: #3B4455;\n",
              "      fill: #D2E3FC;\n",
              "    }\n",
              "\n",
              "    [theme=dark] .colab-df-convert:hover {\n",
              "      background-color: #434B5C;\n",
              "      box-shadow: 0px 1px 3px 1px rgba(0, 0, 0, 0.15);\n",
              "      filter: drop-shadow(0px 1px 2px rgba(0, 0, 0, 0.3));\n",
              "      fill: #FFFFFF;\n",
              "    }\n",
              "  </style>\n",
              "\n",
              "      <script>\n",
              "        const buttonEl =\n",
              "          document.querySelector('#df-3aca7d3f-ffb8-49bf-9b9c-6ab733907b18 button.colab-df-convert');\n",
              "        buttonEl.style.display =\n",
              "          google.colab.kernel.accessAllowed ? 'block' : 'none';\n",
              "\n",
              "        async function convertToInteractive(key) {\n",
              "          const element = document.querySelector('#df-3aca7d3f-ffb8-49bf-9b9c-6ab733907b18');\n",
              "          const dataTable =\n",
              "            await google.colab.kernel.invokeFunction('convertToInteractive',\n",
              "                                                     [key], {});\n",
              "          if (!dataTable) return;\n",
              "\n",
              "          const docLinkHtml = 'Like what you see? Visit the ' +\n",
              "            '<a target=\"_blank\" href=https://colab.research.google.com/notebooks/data_table.ipynb>data table notebook</a>'\n",
              "            + ' to learn more about interactive tables.';\n",
              "          element.innerHTML = '';\n",
              "          dataTable['output_type'] = 'display_data';\n",
              "          await google.colab.output.renderOutput(dataTable, element);\n",
              "          const docLink = document.createElement('div');\n",
              "          docLink.innerHTML = docLinkHtml;\n",
              "          element.appendChild(docLink);\n",
              "        }\n",
              "      </script>\n",
              "    </div>\n",
              "  </div>\n",
              "  "
            ]
          },
          "metadata": {},
          "execution_count": 21
        }
      ]
    },
    {
      "cell_type": "code",
      "source": [
        "from transformers import BertTokenizer,BertForSequenceClassification, TextClassificationPipeline\n",
        "\n",
        "tokenizer = BertTokenizer.from_pretrained(\"bert-base-uncased\")\n",
        "model = BertForSequenceClassification.from_pretrained('bert-base-uncased',\n",
        "                                                      num_labels = 3,\n",
        "                                                      id2label={0: 'negative', 1: 'neutral', 2: 'positive'},\n",
        "                                                      output_attentions = False,\n",
        "                                                      output_hidden_states = False).to(device)\n",
        "                                                      \n",
        "accuracy_per_epoch = []"
      ],
      "metadata": {
        "id": "L9-vZz_njexX",
        "outputId": "12ac2768-db12-4914-8d4c-d1f124a255e1",
        "colab": {
          "base_uri": "https://localhost:8080/"
        }
      },
      "execution_count": null,
      "outputs": [
        {
          "output_type": "stream",
          "name": "stderr",
          "text": [
            "Some weights of the model checkpoint at bert-base-uncased were not used when initializing BertForSequenceClassification: ['cls.predictions.transform.LayerNorm.bias', 'cls.predictions.transform.LayerNorm.weight', 'cls.predictions.transform.dense.weight', 'cls.seq_relationship.bias', 'cls.seq_relationship.weight', 'cls.predictions.transform.dense.bias', 'cls.predictions.bias', 'cls.predictions.decoder.weight']\n",
            "- This IS expected if you are initializing BertForSequenceClassification from the checkpoint of a model trained on another task or with another architecture (e.g. initializing a BertForSequenceClassification model from a BertForPreTraining model).\n",
            "- This IS NOT expected if you are initializing BertForSequenceClassification from the checkpoint of a model that you expect to be exactly identical (initializing a BertForSequenceClassification model from a BertForSequenceClassification model).\n",
            "Some weights of BertForSequenceClassification were not initialized from the model checkpoint at bert-base-uncased and are newly initialized: ['classifier.bias', 'classifier.weight']\n",
            "You should probably TRAIN this model on a down-stream task to be able to use it for predictions and inference.\n"
          ]
        }
      ]
    },
    {
      "cell_type": "code",
      "source": [
        "path = F\"/content/gdrive/MyDrive/NLP/BERT_BeforePreProcessing_ft_epoch6.model\"\n",
        "model.load_state_dict(torch.load(path))\n",
        "pipe = TextClassificationPipeline(model=model, tokenizer=tokenizer, return_all_scores=True)"
      ],
      "metadata": {
        "id": "vhmWMWegBL2g",
        "outputId": "91c9397b-5b38-4047-a30f-289d261cff07",
        "colab": {
          "base_uri": "https://localhost:8080/"
        }
      },
      "execution_count": null,
      "outputs": [
        {
          "output_type": "stream",
          "name": "stderr",
          "text": [
            "/usr/local/lib/python3.10/dist-packages/transformers/pipelines/text_classification.py:104: UserWarning: `return_all_scores` is now deprecated,  if want a similar funcionality use `top_k=None` instead of `return_all_scores=True` or `top_k=1` instead of `return_all_scores=False`.\n",
            "  warnings.warn(\n"
          ]
        }
      ]
    },
    {
      "cell_type": "code",
      "source": [
        "from torch.utils.data import TensorDataset, DataLoader, RandomSampler, SequentialSampler\n",
        "\n",
        "#encode Arabic Testing set\n",
        "encoded_data_val_Arabic = tokenizer.batch_encode_plus( dfTest.Sentence.values,\n",
        "                                                       add_special_tokens = True,\n",
        "                                                       return_attention_mask = True,\n",
        "                                                       return_tensors = 'pt', \n",
        "                                                       truncation=True,\n",
        "                                                       padding=True,\n",
        "                                                      max_length = 200)\n",
        "\n",
        "input_ids_val_Arabic = encoded_data_val_Arabic['input_ids']\n",
        "attention_masks_val_Arabic = encoded_data_val_Arabic['attention_mask']\n",
        "labels_val_Arabic = torch.tensor(dfTest.Sentiment.values)\n",
        "\n",
        "\n",
        "#Arabic Validation set\n",
        "dataset_val_Arabic = TensorDataset(input_ids_val_Arabic, \n",
        "                                   attention_masks_val_Arabic, \n",
        "                                   labels_val_Arabic)\n",
        "\n",
        "\n",
        "batch_size = 8\n",
        "\n",
        "\n",
        "\n",
        "#Arabic validation set\n",
        "dataloader_val_Arabic = DataLoader(dataset_val_Arabic,\n",
        "                                   sampler = RandomSampler(dataset_val_Arabic),\n",
        "                                   batch_size = 8) #since we don't have to do backpropagation for this step\n",
        "\n"
      ],
      "metadata": {
        "id": "vgub67-vjxFC"
      },
      "execution_count": null,
      "outputs": []
    },
    {
      "cell_type": "code",
      "source": [
        "#accuracy score\n",
        "def accuracy_per_class(preds, labels):\n",
        "    #label_dict_inverse = {v: k for k, v in label_dict.items()}\n",
        "    \n",
        "    #make prediction\n",
        "    preds_flat = np.argmax(preds, axis=1).flatten()\n",
        "    labels_flat = labels.flatten()\n",
        "    \n",
        "    true = 0\n",
        "    total = 0\n",
        "    for label in np.unique(labels_flat):\n",
        "        y_preds = preds_flat[labels_flat==label]\n",
        "        y_true = labels_flat[labels_flat==label]\n",
        "        #print(f'Class: {label_dict_inverse[label]}')\n",
        "        print(f'Accuracy:{len(y_preds[y_preds==label])}/{len(y_true)}\\n -> {len(y_preds[y_preds==label]) / len(y_true)}')\n",
        "        true = true + len(y_preds[y_preds==label])\n",
        "        total = total + len(y_true)\n",
        "    return true / total\n",
        "\n",
        "def evaluate(dataloader_val):\n",
        "\n",
        "    #evaluation mode \n",
        "    model.eval()\n",
        "    #tracking variables\n",
        "    loss_val_total = 0\n",
        "    predictions, true_vals = [], []\n",
        "\n",
        "    for batch in tqdm(dataloader_val):\n",
        "\n",
        "        #load into GPU\n",
        "        batch = tuple(b.to(device) for b in batch)\n",
        "\n",
        "        #define inputs\n",
        "        inputs = {'input_ids':      batch[0],\n",
        "                  'attention_mask': batch[1],\n",
        "                  'labels':         batch[2]}\n",
        "\n",
        "        #compute logits\n",
        "        with torch.no_grad():        \n",
        "            outputs = model(**inputs)\n",
        "        \n",
        "        #compute loss\n",
        "        loss = outputs[0]\n",
        "        logits = outputs[1]\n",
        "        loss_val_total += loss.item()\n",
        "\n",
        "        #compute accuracy\n",
        "        logits = logits.detach().cpu().numpy()\n",
        "        label_ids = inputs['labels'].cpu().numpy()\n",
        "        predictions.append(logits)\n",
        "        true_vals.append(label_ids)\n",
        "    \n",
        "    #compute average loss\n",
        "    loss_val_avg = loss_val_total/len(dataloader_val) \n",
        "    \n",
        "    predictions = np.concatenate(predictions, axis=0)\n",
        "    true_vals = np.concatenate(true_vals, axis=0)\n",
        "            \n",
        "    return loss_val_avg, predictions, true_vals\n",
        "\n"
      ],
      "metadata": {
        "id": "RI174e0MBUQm"
      },
      "execution_count": null,
      "outputs": []
    },
    {
      "cell_type": "code",
      "source": [
        "from tqdm import tqdm\n",
        "\n",
        "_,predictions, true_vals = evaluate(dataloader_val_Arabic)"
      ],
      "metadata": {
        "id": "zJI69xYqBVLd",
        "outputId": "8c0adfc2-5d75-4e3b-bedb-1513579d28b7",
        "colab": {
          "base_uri": "https://localhost:8080/"
        }
      },
      "execution_count": null,
      "outputs": [
        {
          "output_type": "stream",
          "name": "stderr",
          "text": [
            "100%|██████████| 9/9 [00:27<00:00,  3.09s/it]\n"
          ]
        }
      ]
    },
    {
      "cell_type": "code",
      "source": [
        "true_vals.shape\n",
        "accuracy = accuracy_per_class(predictions, true_vals)\n",
        "accuracy_per_epoch.append(accuracy)"
      ],
      "metadata": {
        "id": "x6X_YjlhBbxj",
        "outputId": "555165ef-5f68-40cb-d1ca-24be7efe84df",
        "colab": {
          "base_uri": "https://localhost:8080/"
        }
      },
      "execution_count": null,
      "outputs": [
        {
          "output_type": "stream",
          "name": "stdout",
          "text": [
            "Accuracy:11/12\n",
            " -> 0.9166666666666666\n",
            "Accuracy:26/28\n",
            " -> 0.9285714285714286\n",
            "Accuracy:22/28\n",
            " -> 0.7857142857142857\n"
          ]
        }
      ]
    },
    {
      "cell_type": "code",
      "source": [
        "accuracy_per_epoch"
      ],
      "metadata": {
        "id": "p4IcUI92BBdI",
        "outputId": "9c8804ca-f6b4-400c-eb86-2933e574de23",
        "colab": {
          "base_uri": "https://localhost:8080/"
        }
      },
      "execution_count": null,
      "outputs": [
        {
          "output_type": "execute_result",
          "data": {
            "text/plain": [
              "[0.8676470588235294]"
            ]
          },
          "metadata": {},
          "execution_count": 28
        }
      ]
    },
    {
      "cell_type": "code",
      "source": [
        "# preprocess the sentence\n",
        "correct = 0\n",
        "false = 0\n",
        "positive = 0\n",
        "negative = 0\n",
        "neutral = 0\n",
        "for i in range(len(dfTest)):\n",
        "  row = dfTest.iloc[i]\n",
        "  sentence = row['Sentence']\n",
        "  label = row['Sentiment']\n",
        "  input_ids = torch.tensor(tokenizer.encode(sentence, add_special_tokens=True)).unsqueeze(0)\n",
        "  attention_mask = torch.tensor([1] * input_ids.shape[1]).unsqueeze(0)\n",
        "\n",
        "  # get the predicted sentiment label\n",
        "  with torch.no_grad():\n",
        "      outputs = model(input_ids=input_ids, attention_mask=attention_mask)\n",
        "      _, predicted_label = torch.max(outputs[0], dim=1)\n",
        "  print(sentence, predicted_label,label)\n",
        "  if(label == 0):\n",
        "    negative = negative + 1\n",
        "  elif(label == 1):\n",
        "    neutral = neutral + 1\n",
        "  elif(label == 2):\n",
        "    positive = positive + 1\n",
        "  if(predicted_label == label):\n",
        "    correct = correct + 1\n",
        "  else:\n",
        "    false = false + 1\n",
        "  print(correct,false)"
      ],
      "metadata": {
        "colab": {
          "base_uri": "https://localhost:8080/"
        },
        "id": "e7FvBexUj79d",
        "outputId": "bb759278-a43e-48b8-aade-7f7035337659"
      },
      "execution_count": null,
      "outputs": [
        {
          "output_type": "stream",
          "name": "stdout",
          "text": [
            "The profits of the Gulf Livestock Company fell to 12.1 million dirhams in 2010, compared to 27.6 million dirhams in 2009. tensor([0]) 0\n",
            "1 0\n",
            "Aramex to discuss cash dividend of 16% for 2016 tensor([1]) 1\n",
            "2 0\n",
            "Al Ain Al Ahlia Insurance achieved a profit of AED 2.50 million in 2012 compared to AED 2.53 million in 2011. tensor([2]) 0\n",
            "2 1\n",
            "Umm Al Quwain Cement’s profit increased by 30% to AED 7.22 million in the first quarter of this year tensor([2]) 2\n",
            "3 1\n",
            "The General Assembly of Fujairah Cement Industries decided not to distribute cash dividends or shares for the year 2010. tensor([1]) 0\n",
            "3 2\n",
            "Next Tuesday, ADCB’s Board of Directors will meet to discuss some general matters. tensor([1]) 1\n",
            "4 2\n",
            "Dubai Development Company’s profit last year was AED 735,000 compared to AED 444,000 in 2013 tensor([2]) 2\n",
            "5 2\n",
            "Al Ain Al Ahlia Insurance Company announced that it will disclose its financial results for the third quarter of 2011 on 31/10/2011 tensor([1]) 1\n",
            "6 2\n",
            "HSBC to set up $100 million fund to support UAE SMEs tensor([2]) 2\n",
            "7 2\n",
            "The meeting of the Board of Directors of the Arab Company for Heavy Industries will be held on 17-12-2012 to discuss routine work only tensor([1]) 1\n",
            "8 2\n",
            "Ras Al Khaimah White Cement Company profits fell to AED 37.8 million in 2012 from AED 68.8 million in 2011 tensor([0]) 0\n",
            "9 2\n",
            "The General Assembly of the National Corporation for Tourism and Hotels approved the distribution of 60% cash dividends to its shareholders yesterday tensor([1]) 2\n",
            "9 3\n",
            "Ras Al Khaimah White Cement Company announced that it will announce the results of its work during the first quarter of this year next Saturday tensor([1]) 1\n",
            "10 3\n",
            "Abu Dhabi National Takaful Company increased profits to AED 9.26 million in 2012 from AED 4.24 million in 2011 tensor([2]) 2\n",
            "11 3\n",
            "Depa’s shares on the Dubai World Exchange fell 1.32 percent to close at $1.49, trading 261.4 thousand shares worth $392,000. tensor([0]) 0\n",
            "12 3\n",
            "Abu Dhabi National Energy Company (ADNEC) announced the repurchase of 2.2 million shares yesterday, with an average share purchase price of AED 1.97 tensor([1]) 2\n",
            "12 4\n",
            "Dubai: Amlak decided to hold a board meeting on February 26 to discuss the company’s regular business. tensor([1]) 1\n",
            "13 4\n",
            "Dana Gas’s general assembly has been postponed due to lack of quorum until April 23 next year. tensor([0]) 0\n",
            "14 4\n",
            "The Securities and Commodities Authority (SCA) has approved the purchase order of Bank of Sharjah for its shares not exceeding 10% (21,000,000 shares) of the company’s capital. tensor([1]) 2\n",
            "14 5\n",
            "Dubai Commercial Bank shares rose 29.14% to AED 4 yesterday by trading 5,655,000 shares in 12 transactions worth AED 3.2 million tensor([2]) 2\n",
            "15 5\n",
            "The Board of Directors of Al-Fardous Holding Company meets on Wednesday 26-6-2013 at 00:4 pm to approve the financial statements ended on 31-3-2013 tensor([1]) 1\n",
            "16 5\n",
            "Dubai Financial is close to breaking the highest price recorded in a year at AED 42.1 as it closed yesterday up 19.2% to AED 4.1 with trades of AED 109 million tensor([2]) 2\n",
            "17 5\n",
            "The Dubai Financial Market (DFM) has gained 29% since the start of the second quarter to record the second best performance among the 94 global indicators monitored by Bloomberg after Greece tensor([2]) 2\n",
            "18 5\n",
            "The Board of Directors of Tabreed Company will hold a meeting at 2:00 pm on Thursday 31 October to discuss the activities and business of the company tensor([1]) 1\n",
            "19 5\n",
            "The financial results of Green Crescent Insurance Company showed that the company suffered financial losses during the first period of this year amounted to 8 million dirhams tensor([0]) 0\n",
            "20 5\n",
            "The General Assembly of Abu Dhabi Airlines decided yesterday to distribute 7.5 percent in cash. tensor([1]) 1\n",
            "21 5\n",
            "Insider trading witnessed the purchase of 200,000 shares of Ajman Bank at a price of AED 0.86. tensor([1]) 1\n",
            "22 5\n",
            "Dubai Financial Market (DFM) announced yesterday that the decision to reduce the capital of Emirates Takaful by 33.33% has been activated. tensor([0]) 0\n",
            "23 5\n",
            "The Board of Directors of Tabreed will meet at 00:11 a.m. this afternoon to discuss the activities and business of the company. tensor([1]) 1\n",
            "24 5\n",
            "Umm Al Quwain Cement’s profits increased by 30% to AED 7.22 million in the first quarter of this year. tensor([2]) 2\n",
            "25 5\n",
            "Abu Dhabi Air’s profit fell by 1% to AED 3.212 million in 2013 and revenue by 2% to AED 6.1 billion. tensor([0]) 0\n",
            "26 5\n",
            "The Board of Directors of Drake & Scull announced that it has approved the appointment of Sultan Bin Rashid Al Dhaheri as a new Board Member. tensor([1]) 1\n",
            "27 5\n",
            "The profits of Ras Al Khaimah White Cement Company fell to AED 37.8 million in 2012, compared to a profit of AED 68.8 million in 2011. tensor([0]) 0\n",
            "28 5\n",
            "The Board of Directors of Dar Al Takaful Company will meet on the 14th of this month to approve the financial statements for the second quarter of this year. tensor([1]) 1\n",
            "29 5\n",
            "The Dubai Financial Market (DFM) announced the addition of Emirates Islamic Bank’s capital increase shares to shareholders’ accounts as at the closing date of the company’s register on 21/7/2010. tensor([1]) 2\n",
            "29 6\n",
            "Fujairah Commercial Center achieved a profit of AED 895,000 during the first half of this year compared to AED 841,000 during the same period last year. tensor([2]) 2\n",
            "30 6\n",
            "Dubai Abeer Abu Shamla: Tim Edwards, Director of Investment Strategies at S&P Dow Jones, said that the performance analysis of the Middle East markets in June showed that the UAE was the best performer in the S&P 40 index for companies from the GCC. In a statement sent to Al Khaleej News, he pointed out that while the global markets fell last month, the GCC’s performance was higher than the GCC’s. tensor([2]) 2\n",
            "31 6\n",
            "Insider trading saw the sale of 2,714 million shares of Arabtec at prices ranging from AED 2.87 to AED 2.95. tensor([1]) 1\n",
            "32 6\n",
            "Nomura Bank of Japan recommended the purchase of DP World shares and set the target price at $66.16 per share, which is 0% higher than the current share price. tensor([1]) 2\n",
            "32 7\n",
            "Abu Dhabi Commercial Bank (ADCB) in a recent report recommended the purchase of the shares of Emirates Integrated Telecommunications Company (EITC). The company’s fair value of its shares was AED 7 million by AED 6.01 at the close of yesterday. The report predicted that the company’s revenues will grow to AED 3.83 billion this year compared to AED 1.54 billion, a loss of approximately 89% in 2010. The company’s total profit is expected to fall from AED 859 million in 2007 to AED 2.37 billion this year. tensor([0]) 2\n",
            "32 8\n",
            "Abu Dhabi: Reem Investments’ Board of Directors announced a net profit of AED 211 million for the 2015 financial year at its Annual General Meeting. Abdulhamid Saeed, Managing Director of Reem Investments, said: “Despite the decline in oil prices and the value of shares in the UAE, the company’s investment portfolio has effectively contributed 20% to the net profit achieved. The company is in the final stages of starting new development projects that will lead to a continuous increase in revenues.” tensor([2]) 2\n",
            "33 8\n",
            "Depa confirmed in a statement published yesterday on the NASDAQ Dubai website that it has carried out additional operations within its share purchase program. It bought a total of approximately 100,000 shares during the period from July 1 to July 31 for a share price of $0.587 per share. The company has announced on November 26, 2008 that it intends to start a program to buy back its shares for a period of 12 months starting from November 27th. tensor([1]) 1\n",
            "34 8\n",
            "The value of purchases of non-Arab foreigners from shares in the Dubai Financial Market was AED 46.71 million and their sales amounted to AED 22.197 million. The value of purchases of Arab non-Gulf investors was AED 36.81 million and their sales amounted to AED 75.60 million. As for Gulf investors, their purchases amounted to AED 50.23 million and their sales amounted to AED 57.27 million. As a result of these developments, the total value of purchases of non-UAE nationals from shares amounted to AED 31.176. tensor([1]) 1\n",
            "35 8\n",
            "The Chartered Financial Analyst Institute (CFA) announced that Saeed Mubarak Al Hajeri, Chairman of ADIA Board of Directors, was elected to its Board of Governors, making him the first Gulf and Arab person to hold such a position. The announcement was made at a ceremony held in Vancouver, Canada, in the presence of the Chairman and members of the Board of Governors and a number of financial and economic leaders from around the world. tensor([1]) 1\n",
            "36 8\n",
            "The value of purchases of non-Arab foreigners from shares in the Dubai Financial Market amounted to AED 64.115 million and their sales amounted to AED 07.44 million. The value of purchases of Arab non-Gulf investors amounted to AED 84.75 million and their sales amounted to AED 23.78 million. As for Gulf investors, their purchases amounted to AED 17.28 million and their sales amounted to AED 13.31 million. The total value of sales of non-UAE nationals amounted to AED 65.219 million. tensor([1]) 1\n",
            "37 8\n",
            "The National Corporation for Tourism and Hotels achieved an increase in its profits by 62%, to 8 147 million dirhams in 2009 compared to 91 million dirhams in 2008. The company's revenues increased to reach 8.552 million dirhams in 2009 compared to 7.502 million dirhams in 2008 with an increase of 10%. The company's total assets increased to 8.1 billion dirhams in 2009 compared to 1.1 billion dirhams in 2008, while the shareholders' equity increased to 2.682 million dirhams in 2008. tensor([2]) 2\n",
            "38 8\n",
            "Yesterday, the stock markets made up part of their recent losses by improving stock prices and a significant increase in trading volume compared to previous sessions. The UAE index closed up 63.0% to 69.2487 points with a gain of AED 28.2 billion, bringing the market value to AED 8.366 billion with trades of AED 260 million. Dubai index rose 94.0% to 4.1528 points with trades of AED 1.63 million. tensor([2]) 2\n",
            "39 8\n",
            "Abu Dhabi - Ali Assaad: Local shares gained AED 10 billion as the UAE market index closed up by 37.1% to reach 3.4969 points. The market capitalization rose to AED 64.744 billion as the week closed. Shares saw a correction and profit on some stocks that had previously risen by AED 1.15 billion. The DFM index rose by 05.2% and closed up at 87.4182 points. tensor([2]) 2\n",
            "40 8\n",
            "National Cement Company's profits in the first quarter of 2010 amounted to AED 23,486 million compared to AED 75,515 million for the same period last year. Non-current assets amounted to AED 1,706 billion compared to AED 1,879 billion, traded assets AED 378,199 million compared to AED 423,111 million, and shareholders' equity AED 1,749 billion compared to AED 2,009 billion. tensor([1]) 2\n",
            "40 9\n",
            "Over the past week, the UAE market index rose by 2.48% to 2705.1 points in a gain of AED 9,629 billion, bringing the market value to AED 397,905 billion in weekly trades AED 1,359 billion. Dubai Financial increased by 8.4% to AED 1,29, Aldar increased by 6,06% to AED 1,4 %, Arabtec increased by 4,58% to AED 1,37 and Emaar by 3,53%. tensor([2]) 2\n",
            "41 9\n",
            "SALAMA Dubai Financial Market (DFM) informed that the Board of Directors of the company met on Saturday and recommended not to distribute profits to shareholders to enable the company to face future challenges. The Board of Directors decided, based on Article 27/1 of the Company’s Articles of Association and Article 106 of Federal Law No. 8 of 1984 on Commercial Companies and its amendments, to consider Reza Farid bin Bouzid resigned with the immediate effect of his absence from three consecutive meetings of the Board of the General Assembly Chamber without an acceptable excuse. tensor([0]) 0\n",
            "42 9\n",
            "Emaar MGF, a subsidiary of Emaar, hopes to revive a $64.1 billion IPO project in 12 months if market conditions allow. Sharavan Gupta, vice president and CEO, said the company is waiting for market stability. Emaar MGF said it has agreed with Marriott International to build four hotels in India with a total investment of more than $400 million. tensor([2]) 1\n",
            "42 10\n",
            "Mubasher said that its list of preferred shares in the Middle East and North Africa (MENA) grew by 58% in Jordan in 4 months. This increase was driven by 7 Egyptian shares and 4 Emirati shares. Mubasher added Dana Gas to its list of preferred shares because of its stable revenues and strong growth potential. As a result of the above, Mubasher has rebalanced the list of preferred shares in the Middle East and North Africa (MENA) by re-weighting all shares in equal proportions. tensor([2]) 2\n",
            "43 10\n",
            "During the week, the capital markets witnessed a further liquidity flow, which increased the strength of demand and boosted the gains by AED 25.9 billion, bringing the market value of shares to AED 9.561 billion at the end of yesterday’s trading. The increase in liquidity by 9.9% to AED 66.5 billion compared to AED 74.4 billion last week, contributed to the rise of the UAE market index by 77% to close at 75.3688 points, and the rise of the Abu Dhabi market index 3.9%. tensor([2]) 2\n",
            "44 10\n",
            "Union Properties said it was taking a decision to pass by today to convene the General Assembly on August 18 to approve the financing of the OIA project.The company added in a statement on the Dubai Financial Market that the meeting will include the approval of the Board of Directors' delegation of new powers, and the adoption of the company's articles of association. tensor([1]) 1\n",
            "45 10\n",
            "10 local shares at their lowest traded price yesterday recorded a new low of AED 01.1 and edifices at AED 0.92, Umm Al Quwain Cement at AED 0.55, Dana Gas at AED 0.51, driving at AED 3.15, Waha Capital at AED 0.55, Dubai Financial at AED 0.98, Dubai Investments at AED 0.7, Aman at AED 0.522 and Gulf Navigation at AED 0.242. tensor([0]) 0\n",
            "46 10\n",
            "The financial group Hermes recommended the purchase of shares of Aldar Properties and set its target price at AED 1.84.The report found that the company achieved a good profit for the first quarter of 2011 exceeding AED 189 million, contrary to Hermes estimates, which the latter considered a positive starting point for the other seasons of the year to continue the House to achieve more profits. tensor([2]) 2\n",
            "47 10\n",
            "Al Majid Motors, the sole distributor of Kia in the UAE, has announced the appointment of Mohammed Abdullah Rafiq Al Khader as the company’s General Manager. The new role of Mohammed Al Khader is focused on the company’s day-to-day business affairs, which include: sales, marketing, finance, services, and corporate communications with suppliers and third parties. tensor([1]) 1\n",
            "48 10\n",
            "DUBAI: Dubai set the price difference for its crude supply in August at 25 cents a barrel below Omani crude.The price difference will be applied to the average daily settlement prices of the nearest August delivery contract in Omani crude at the end of June to determine the official selling price of Dubai crude. tensor([1]) 1\n",
            "49 10\n",
            "The semi-annual interest rate of Dubai World Sukuk for the period from 6 May to 4 November 2008 is set at the annual rate of 3.3325%, including Libor rate at 2.8825%, plus a margin of 0.45%. The size of the Sukuk is $ 1 billion, while the value of the distributed interest is $ 16,847 million and the interest will be distributed on 4 November. tensor([1]) 1\n",
            "50 10\n",
            "The decline in local stock prices accelerated with the return of concern among investors to close the UAE market index down 23.2% to 12.2502 points with losses of 39.8 billion dirhams, bringing the market value to 96.367 billion dirhams with trades of about 370 million dirhams, as a result of the decline in the Dubai index 06.3% to 15.1531 points and the Abu Dhabi market index 97.1% to 99.2552 points. tensor([0]) 0\n",
            "51 10\n",
            "The meeting of the Board of Directors of Green Crescent Insurance Company was held yesterday at the company's headquarters in Abu Dhabi. The Board of Directors discussed the financial statements for the third quarter of 2010 and approved the formation of the Internal Control Department, in implementation of the provisions of Article (8) of 2009 on the rules of corporate governance and disciplinary standards of the Securities and Commodities Authority. tensor([1]) 1\n",
            "52 10\n",
            "The Board of Directors of the National Bank of Abu Dhabi (NBAD) approved the Bank’s budget for 2013, during a meeting of the Board of Directors held yesterday morning. tensor([1]) 1\n",
            "53 10\n",
            "The Dow Jones quoted an official of Ajman Islamic Bank that the bank may start listing its shares on the Dubai market in mid-May. tensor([1]) 1\n",
            "54 10\n",
            "Depa said in a statement on Nasdaq Dubai that it had completed new share buybacks, ending purchases of about 700,000 shares in November at an average price of $0.75. tensor([0]) 1\n",
            "54 11\n",
            "Dubai Islamic Insurance and Reinsurance Company (Aman) achieved a profit of AED 3.1 million at the end of the first quarter 2016, compared to a profit of AED 136.7 thousand achieved during the same period in 2015, and the written premiums increased to AED 92.1 million compared to AED 74.3 million during the first quarter of 2015. tensor([2]) 2\n",
            "55 11\n",
            "Gulf Investment Company’s profit in 2016 was AED 30.82 million, compared to AED 27.47 million in 2015, up 12.2%. The company recorded a profit of AED 16.8 million in the fourth quarter of last year, compared to a profit of AED 18.11 million in the fourth quarter of 2015, a decrease of 7%. tensor([2]) 2\n",
            "56 11\n",
            "Fujairah National Insurance achieved a net profit of AED 12.97 million during the first quarter of this year, an increase of 105.7%, while the total premiums increased 12.7%, to AED 53.97 million. Insurance profits rose 76.3% to AED 10.7 million, and investment profits reached 128% to AED 3.9 million. tensor([2]) 2\n",
            "57 11\n"
          ]
        }
      ]
    },
    {
      "cell_type": "code",
      "source": [
        "print(\"Accuracy of testing = \", 100 * correct / (correct + false)) \n",
        "print(negative,positive,neutral) "
      ],
      "metadata": {
        "id": "WquWL3kTj7_v",
        "outputId": "28a5e4d7-fd5a-4fc8-92b8-f73a41c41b85",
        "colab": {
          "base_uri": "https://localhost:8080/"
        }
      },
      "execution_count": null,
      "outputs": [
        {
          "output_type": "stream",
          "name": "stdout",
          "text": [
            "Accuracy of testing =  36.76470588235294\n",
            "13 28 27\n"
          ]
        }
      ]
    }
  ]
}